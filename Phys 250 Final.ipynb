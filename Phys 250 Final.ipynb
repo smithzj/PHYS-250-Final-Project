{
 "cells": [
  {
   "cell_type": "code",
   "execution_count": 276,
   "metadata": {},
   "outputs": [],
   "source": [
    "%matplotlib inline\n",
    "import numpy as np\n",
    "import scipy.signal as signal    # Notice this one is new!\n",
    "import matplotlib.pyplot as plt\n",
    "from matplotlib import cm as colormap\n",
    "from mpl_toolkits.mplot3d import Axes3D\n",
    "import math\n",
    "import cmath\n",
    "from scipy import interpolate \n",
    "from scipy.spatial import distance \n",
    "from copy import deepcopy"
   ]
  },
  {
   "cell_type": "code",
   "execution_count": 277,
   "metadata": {},
   "outputs": [
    {
     "name": "stdout",
     "output_type": "stream",
     "text": [
      "(369, 238)\n",
      "(2, 3721)\n",
      "(2, 84101)\n",
      "black_coord(Test)\n",
      "[[1. 1.]\n",
      " [1. 2.]\n",
      " [1. 3.]\n",
      " [2. 1.]\n",
      " [2. 3.]]\n"
     ]
    },
    {
     "data": {
      "image/png": "[encoded data removed]",
      "text/plain": [
       "<Figure size 432x288 with 1 Axes>"
      ]
     },
     "metadata": {
      "needs_background": "light"
     },
     "output_type": "display_data"
    }
   ],
   "source": [
    "#import image \n",
    "Test = np.array([[1,1,1,1,1], [1,0,0,0,1], [1,0,1,0,1], [1,1,1,1,1]])\n",
    "#SHOOT this whole thing should be a function probably. \n",
    "def Import(photo):\n",
    "    img = plt.imread(photo)\n",
    "    plt.figure()\n",
    "    #plt.imshow(img)\n",
    "    return img\n",
    "\n",
    "#turn image into array \n",
    "def NotGray(thresh, image):\n",
    "    imarray = np.array(image)\n",
    "    #makeit truely black and white:\n",
    "    for i in range(len(imarray)):\n",
    "        for j in range(len(imarray[0])):\n",
    "            #print(imarray[0][0])\n",
    "            for k in range(3):\n",
    "                #thresh = 200             #by raising this will pick up more grey values included\n",
    "                                        #will be darker/more continuous but also more noisy- this might becom param of eqn.\n",
    "                if imarray[i][j][k] < thresh:\n",
    "                    imarray[i][j][k]=0     #0 is what 'black' is for python color codes\n",
    "                else: imarray[i][j][k]=255 #255 is 'white' \n",
    "    return imarray\n",
    "img = Import('greyish.jpg')\n",
    "imarray = NotGray(230, img)\n",
    "plt.imshow(imarray) #this will show the pure black and white image\n",
    "                            #These following lines are just to check that now each triplet have the same values(it comes from the RGB plt.imread)\n",
    "                            #for i in range(len(imarray)):            \n",
    "                            #    for j in range(len(imarray[0])):\n",
    "                            #        for k in range(len(imarray[0][0])):\n",
    "                            #             if imarray[i][j][k] != imarray[i][j][0]:\n",
    "                            #                print(imarray[i][j])\n",
    "def CollapseRBG(array):  #array is NxMx3\n",
    "    bwimarray = np.zeros([len(array), len(array[0])])  #Here I am turning my RBG array into a BW array (Collapsing third dim)\n",
    "    for i in range(len(array)):\n",
    "        for j in range(len(array[0])):\n",
    "            bwimarray[i][j] = array[i][j][0]    #Setting each element the array to the last elemet of the triplet since they are all the same.      \n",
    "    return bwimarray                                        #This might be kinda messed up if the photo you upload isnt black and white. But it shouldent be too messed up\n",
    "\n",
    "bwimarray = CollapseRBG(imarray)\n",
    "print(np.shape(bwimarray))\n",
    "plt.imshow(bwimarray)\n",
    "def BWCoords(array):\n",
    "    black = np.where(bwimarray == 0)     #these are the locations of each black pixel\n",
    "    white = np.where(bwimarray == 255)    #these are the locations of each white pixel\n",
    "    return black, white\n",
    "\n",
    "black, white = BWCoords(bwimarray)\n",
    "print(np.shape(black))\n",
    "print(np.shape(white))\n",
    "#print(black)\n",
    "#print(bwimarray[black])\n",
    "\n",
    "#print(white)\n",
    "#print(bwimarray[white])\n",
    "\n",
    "w_index = white[0] #These are the locations? of each white pixel \n",
    "#obj1 = enumerate(trythis)\n",
    "\n",
    "bwimarray_copy = bwimarray\n",
    "for num, pixel in enumerate(w_index):\n",
    "    bwimarray_copy[pixel] = num+1\n",
    "\n",
    "\n",
    "    \n",
    "    \n",
    "def black_coords(array):\n",
    "    black = np.where(array==0)\n",
    "    b = np.zeros([len(black[0]),2])\n",
    "    #print(len(black[0]))\n",
    "    for i in range(len(black[0])):\n",
    "        coord = np.array([black[0][i], black[1][i]])\n",
    "        b[i] = coord\n",
    "    return b\n",
    "print('black_coord(Test)')    \n",
    "print(black_coords(Test))\n",
    "\n",
    "def PairCoord_Index(start, coordslist): \n",
    "    \"\"\"\n",
    "    start needs to be an np.array([x,y]) where [x,y] in coordlist\n",
    "    and x, y are floats\n",
    "    this is going to be finicky \n",
    "    \"\"\"\n",
    "    pair_dict = dict()\n",
    "    start_str = str(start)\n",
    "    for i in enumerate(coordslist):\n",
    "        coord_str = str(i[1])\n",
    "        #print(coord_str)\n",
    "        pair_dict[coord_str] = i[0]\n",
    "    return pair_dict[start_str]\n",
    "\n",
    "\n",
    "###distance between each black coord with another\n",
    "def Distance(coord_list):\n",
    "    distance_matrix = distance.cdist(coord_list, coord_list)\n",
    "    return distance_matrix\n",
    "\n",
    "\n",
    "\n",
    " #I have no idea why this is now showing a yellow and purple image? \n",
    "#print('rels and pix are:',bwimarray_copy[pix])\n",
    "\n",
    "#having checked this with rainbows, it honestly workes as expected. a little slow for a 440 KB photo, rel fast for 140 KB\n",
    "#for rainbow picture with lower thresh, will be difference in bwimarray with what is plotted(choosing R, B or G)\n",
    "#I think just always put a reg picture in that happens to only be greyscale. \n",
    "\n"
   ]
  },
  {
   "cell_type": "code",
   "execution_count": 278,
   "metadata": {},
   "outputs": [],
   "source": [
    "def BestPath(start, array):\n",
    "    \"\"\"\n",
    "    Start in form np.array([x., y.])\n",
    "    \"\"\"\n",
    "    coordinates= black_coords(array)\n",
    "    print(len(coordinates))\n",
    "    matrix = Distance(coordinates)\n",
    "    sp = PairCoord_Index(start, coordinates)\n",
    "    path_coord_x = [coordinates[sp][0]]\n",
    "    path_coord_y = [coordinates[sp][1]]\n",
    "    print(sp)\n",
    "    path_index = [sp]\n",
    "    #print('len(coordinates)')\n",
    "    #print(len(coordinates))\n",
    "    for i in range(len(coordinates)):\n",
    "        row =matrix[sp,:]\n",
    "        for j in path_index:\n",
    "            row[j] = np.infty\n",
    "        closest = np.argmin(row)\n",
    "        #print('for i=', i, 'closest =', closest)\n",
    "        path_coord_x.append(coordinates[closest][0])\n",
    "        path_coord_y.append(coordinates[closest][1])\n",
    "        path_index.append(closest)\n",
    "        sp = closest\n",
    "    path_coord_x.append(path_coord_x[0])\n",
    "    path_coord_y.append(path_coord_y[0])\n",
    "    path_index.append(path_index[0])\n",
    "    return path_coord_x, path_coord_y\n",
    "    \n"
   ]
  },
  {
   "cell_type": "code",
   "execution_count": 279,
   "metadata": {},
   "outputs": [],
   "source": [
    "#print(Test)\n",
    "#start = np.array([2.,1.])\n",
    "#print(BestPath(start, Test))\n",
    "#Test = np.array([[1,1,1,1,1], [1,0,0,0,1], [1,0,1,0,1], [1,1,1,1,1]])\n",
    "#print(list(enumerate(black_coords(Test))))\n",
    "##print(Test)"
   ]
  },
  {
   "cell_type": "code",
   "execution_count": 280,
   "metadata": {},
   "outputs": [
    {
     "name": "stdout",
     "output_type": "stream",
     "text": [
      "(695, 800, 3)\n"
     ]
    },
    {
     "data": {
      "image/png": "[encoded data removed]",
      "text/plain": [
       "<Figure size 432x288 with 1 Axes>"
      ]
     },
     "metadata": {
      "needs_background": "light"
     },
     "output_type": "display_data"
    }
   ],
   "source": [
    "horse = Import('horse.jpg')\n",
    "plt.imshow(horse)\n",
    "print(np.shape(horse))"
   ]
  },
  {
   "cell_type": "code",
   "execution_count": 281,
   "metadata": {},
   "outputs": [
    {
     "name": "stdout",
     "output_type": "stream",
     "text": [
      "(695, 800, 3)\n",
      "[ 18. 631.]\n"
     ]
    }
   ],
   "source": [
    "horse = NotGray(200, horse)\n",
    "print(np.shape(horse))\n",
    "horse = CollapseRBG(horse)\n",
    "blackpix = black_coords(horse)\n",
    "print(blackpix[0])\n",
    "#start = blackpix[1300]\n",
    "#horse_path=BestPath(start, horse)"
   ]
  },
  {
   "cell_type": "code",
   "execution_count": null,
   "metadata": {},
   "outputs": [],
   "source": []
  },
  {
   "cell_type": "code",
   "execution_count": null,
   "metadata": {},
   "outputs": [],
   "source": []
  },
  {
   "cell_type": "code",
   "execution_count": 282,
   "metadata": {},
   "outputs": [
    {
     "name": "stdout",
     "output_type": "stream",
     "text": [
      "26114\n"
     ]
    }
   ],
   "source": [
    "print(len(horse_path[0]))"
   ]
  },
  {
   "cell_type": "code",
   "execution_count": 283,
   "metadata": {},
   "outputs": [
    {
     "name": "stdout",
     "output_type": "stream",
     "text": [
      "[0 1 2 3 4 5 0]\n",
      "[0 1 2 3 4 5 0]\n"
     ]
    }
   ],
   "source": [
    "y = np.array([0,1,2,3,4,5,0])\n",
    "print(y)\n",
    "y = y- y[0]\n",
    "print(y)"
   ]
  },
  {
   "cell_type": "code",
   "execution_count": 445,
   "metadata": {},
   "outputs": [
    {
     "name": "stdout",
     "output_type": "stream",
     "text": [
      "26114\n",
      "26114\n",
      "1000\n"
     ]
    },
    {
     "data": {
      "image/png": "[encoded data removed]",
      "text/plain": [
       "<Figure size 432x288 with 1 Axes>"
      ]
     },
     "metadata": {
      "needs_background": "light"
     },
     "output_type": "display_data"
    }
   ],
   "source": [
    "from scipy.interpolate import UnivariateSpline\n",
    "##Going to make line approximation; using UnivariateSpline \n",
    "##Splines are linear approximations to a line. \n",
    "def lineapprox(path_x, path_y, plot=True):\n",
    "    arange = np.arange(0, len(path_x),1)\n",
    "    path_x_array = np.array(path_x)\n",
    "    path_y_array = np.array(path_y)\n",
    "    flip_y = -1*path_y_array\n",
    "    x_approx = UnivariateSpline(arange, path_x_array)\n",
    "    y_approx = UnivariateSpline(arange, path_y_array)\n",
    "    #print(type(x_approx))\n",
    "    # print(x_approx.size)\n",
    "    x_approx_array = [0] * 1000\n",
    "    y_approx_array = [0] * 1000\n",
    "    index = 0\n",
    "    for v in (np.linspace(0, len(path_x)-1, 1000)):\n",
    "        #print('type in here: ', type(x_approx(v)))\n",
    "        #print('this item: ', x_approx(v))\n",
    "        x_approx_array[index] = float(x_approx(v))\n",
    "        y_approx_array[index] = float(y_approx(v))\n",
    "        index += 1\n",
    "    #print(x_approx_array)\n",
    "    #print(y_approx_array)\n",
    "    t = np.linspace(0, len(path_x), 1000)\n",
    "    endpoint_x = np.mean([x_approx_array[0], x_approx_array[-1]])\n",
    "    x_approx_array[0] = endpoint_x\n",
    "    x_approx_array[-1] = endpoint_x\n",
    "    x_approx_array = x_approx_array - x_approx_array[0]                      \n",
    "          \n",
    "    endpoint_y = np.mean([y_approx_array[0], y_approx_array[-1]])\n",
    "    y_approx_array[0] = endpoint_y\n",
    "    y_approx_array[-1] = endpoint_y\n",
    "    y_approx_array = y_approx_array - y_approx_array[0]\n",
    "    \n",
    "    if plot == True:\n",
    "        #plt.plot(x,y, 'k')\n",
    "        #plt.plot(*zip(*[(x_approx(v), y_approx(v)) for v in np.linspace(0, len(path_x)-1, 1000)]))\n",
    "        plt.plot(x_approx_array, y_approx_array)\n",
    "        #plt.gca().invert_xaxis()\n",
    "        #plt.gca().invert_yaxis()\n",
    "        #plt.plot(splines)\n",
    "        #plt.plot(arange, x_approx)\n",
    "        #pltl.plot(arange, y_approx)\n",
    "    return x_approx_array, y_approx_array,t\n",
    "x = horse_path[0]\n",
    "y = horse_path[1]\n",
    "print(len(y))\n",
    "print(len(x))\n",
    "horse_splines = lineapprox(x,y, plot=True)\n",
    "print(len(horse_splines[0]))"
   ]
  },
  {
   "cell_type": "code",
   "execution_count": null,
   "metadata": {},
   "outputs": [],
   "source": []
  },
  {
   "cell_type": "code",
   "execution_count": null,
   "metadata": {},
   "outputs": [],
   "source": []
  },
  {
   "cell_type": "code",
   "execution_count": null,
   "metadata": {},
   "outputs": [],
   "source": []
  },
  {
   "cell_type": "code",
   "execution_count": null,
   "metadata": {},
   "outputs": [],
   "source": []
  },
  {
   "cell_type": "code",
   "execution_count": null,
   "metadata": {},
   "outputs": [],
   "source": []
  },
  {
   "cell_type": "code",
   "execution_count": null,
   "metadata": {},
   "outputs": [],
   "source": []
  },
  {
   "cell_type": "code",
   "execution_count": null,
   "metadata": {},
   "outputs": [],
   "source": []
  },
  {
   "cell_type": "code",
   "execution_count": null,
   "metadata": {},
   "outputs": [],
   "source": []
  },
  {
   "cell_type": "code",
   "execution_count": null,
   "metadata": {},
   "outputs": [],
   "source": []
  },
  {
   "cell_type": "code",
   "execution_count": null,
   "metadata": {},
   "outputs": [],
   "source": []
  },
  {
   "cell_type": "code",
   "execution_count": null,
   "metadata": {},
   "outputs": [],
   "source": []
  },
  {
   "cell_type": "code",
   "execution_count": null,
   "metadata": {},
   "outputs": [],
   "source": []
  },
  {
   "cell_type": "markdown",
   "metadata": {},
   "source": [
    "I need to understand Zip alot better ??elena's help?\n",
    "I need to understand UnivariateSplines better- data types\n",
    "Want to figure out how to rotate\n",
    "_Dont understand what is going on with the parametric plotting- need to do that by tomorrow\n",
    "would like to have started FFT by end of tomorrow\n",
    "Finished Image detector by end of Friday.\n",
    "Make measurements Saturday and Sunday\n",
    "Make poster Monday and Tuesday "
   ]
  },
  {
   "cell_type": "code",
   "execution_count": null,
   "metadata": {},
   "outputs": [],
   "source": []
  },
  {
   "cell_type": "code",
   "execution_count": 299,
   "metadata": {},
   "outputs": [
    {
     "name": "stdout",
     "output_type": "stream",
     "text": [
      "Howzit going??\n",
      "Lets get crackalackin\n"
     ]
    }
   ],
   "source": [
    "print('Howzit going??')\n",
    "print(\"Lets get crackalackin\")\n"
   ]
  },
  {
   "cell_type": "code",
   "execution_count": 305,
   "metadata": {},
   "outputs": [
    {
     "name": "stdout",
     "output_type": "stream",
     "text": [
      "endpoint\n",
      "18.176764847905805\n",
      "c_n= (1.7849247624404634-3.075734788897567j)\n",
      "c_n= (-0.4524985602227134+2.0290367240827916j)\n",
      "c_n= (1.0506004642644193+1.9603022616716852j)\n",
      "c_n= (-0.8035812306857303+0.5040939903937364j)\n",
      "c_n= (0.582255071807443-0.168518054923256j)\n",
      "[ 1.78492476-3.07573479j -0.45249856+2.02903672j  1.05060046+1.96030226j\n",
      " -0.80358123+0.50409399j  0.58225507-0.16851805j]\n",
      "endpoint\n",
      "632.4380134838292\n",
      "c_n= (0.08982739672649553-3.722172890058662j)\n",
      "c_n= (0.4778082129038408-1.7784810966371154j)\n",
      "c_n= (-0.35884555013853886-0.09515234203551862j)\n",
      "c_n= (-0.36275706486736214-0.7403657831330659j)\n",
      "c_n= (0.21974933944575578+0.7086267781409485j)\n",
      "[ 0.0898274 -3.72217289j  0.47780821-1.7784811j  -0.35884555-0.09515234j\n",
      " -0.36275706-0.74036578j  0.21974934+0.70862678j]\n"
     ]
    },
    {
     "data": {
      "text/plain": [
       "[<matplotlib.lines.Line2D at 0x2320b50cdd8>]"
      ]
     },
     "execution_count": 305,
     "metadata": {},
     "output_type": "execute_result"
    },
    {
     "data": {
      "image/png": "[encoded data removed]",
      "text/plain": [
       "<Figure size 432x288 with 1 Axes>"
      ]
     },
     "metadata": {
      "needs_background": "light"
     },
     "output_type": "display_data"
    }
   ],
   "source": [
    "def c_n(n,f,t, T):\n",
    "    \"\"\"\n",
    "    f is an array...is t? no. right now t is our variable.\n",
    "    \"\"\"\n",
    "    cn = np.sum((1/T)*f*np.exp(2*np.pi*-1j*n*t/T))\n",
    "    print('c_n=', cn)\n",
    "    return cn\n",
    "\n",
    "\n",
    "def FourierTransform(f, N):\n",
    "    \"\"\"\n",
    "    f is a function of 't' should be an array evaluated \n",
    "    \"\"\"\n",
    "    #need to make c_ns\n",
    "        #inputing x(t) so need tvalues\n",
    "        #need T- the 'period'\n",
    "        #how many t_values do I need?\n",
    "    T = len(f)\n",
    "    t = np.linspace(0, 26114-1, 1000)\n",
    "    endpoint = np.mean([f[0], f[-1]])\n",
    "    print('endpoint')\n",
    "    print(endpoint)\n",
    "    f[0] = endpoint\n",
    "    f[-1] = endpoint\n",
    "    f = f - f[0]    \n",
    "    ###START OVER###\n",
    "    #Want \n",
    "    #for i in range(T):\n",
    "    #    fft_t = cn\n",
    "    \n",
    "    ################\n",
    "    cn = np.ndarray(N, dtype=np.complex128)\n",
    "    for i in range(0, N):\n",
    "        cn[i] = c_n(i+1,f,t,T)\n",
    "    print(cn)\n",
    "    #fft_at_t\n",
    "    f_ft = np.ndarray(T)\n",
    "    \n",
    "    \n",
    "    \n",
    "    \n",
    "    for i in range(N):\n",
    "        for j in range(T):\n",
    "            \n",
    "            f_ft[i] = np.sum(np.real(cn[i]*np.exp(2*np.pi*1j*(i+1)*t[j]/T)))\n",
    " \n",
    "    FT_f = f_ft\n",
    "\n",
    "    return FT_f, endpoint\n",
    "\n",
    "\n",
    "\n",
    "xt = np.array(horse_splines[0])\n",
    "yt = np.array(horse_splines[1])\n",
    "T = len(xt)\n",
    "#t = np.linspace(0, T, 1000)\n",
    "      \n",
    "#print(type(xt))\n",
    "#yt = np.array(horse_splines[1])\n",
    "#print(np.shape(xt))\n",
    "\n",
    "FT_x,x_o = FourierTransform(xt, 5)\n",
    "#print(type(FT_x))\n",
    "FT_y,yq_o = FourierTransform(yt, 5)\n",
    "plt.plot(xt,yt, 'k.')\n",
    "plt.plot(FT_x, FT_y, 'c.')\n",
    "plt.plot(x_o, y_o, 'r.')\n",
    "plt.plot(FT_x[0], FT_y[0], 'k.')\n",
    "\n",
    "\n",
    "#print(FT_x)\n",
    "#print(FT_y)\n",
    "    "
   ]
  },
  {
   "cell_type": "code",
   "execution_count": 306,
   "metadata": {},
   "outputs": [],
   "source": [
    "#print(horse_splines[2])"
   ]
  },
  {
   "cell_type": "code",
   "execution_count": null,
   "metadata": {},
   "outputs": [],
   "source": [
    " def cn(n):\n",
    "            c = y*np.exp(-1j*2*n*np.pi*t_vals/period)\n",
    "            #print(c)\n",
    "            return(c.sum()/c.size)\n",
    "\n",
    "        coefs = [cn(i) for i in range(1,N+1)]\n",
    "        print(coefs)\n",
    "\n",
    "        def f(x, degree=N):\n",
    "            # Evaluate the function y at time t using Fourier approximiation of degree N\n",
    "            f = np.array([2*coefs[i-1]*np.exp(1j*2*i*np.pi*x/period) for i in range(1,degree+1)])\n",
    "            return(f.sum())\n",
    "       \n",
    "        # Evaluate function at all specified points in t domain\n",
    "        fourier_approximation = np.array([f(t, degree=N).real for t in t_vals])"
   ]
  },
  {
   "cell_type": "code",
   "execution_count": 334,
   "metadata": {},
   "outputs": [
    {
     "name": "stdout",
     "output_type": "stream",
     "text": [
      "26114\n",
      "<class 'numpy.ndarray'>\n",
      "(1000,)\n",
      "<class 'numpy.ndarray'>\n",
      "(1000,)\n"
     ]
    },
    {
     "data": {
      "text/plain": [
       "[<matplotlib.lines.Line2D at 0x2320f1d4128>]"
      ]
     },
     "execution_count": 334,
     "metadata": {},
     "output_type": "execute_result"
    },
    {
     "data": {
      "image/png": "[encoded data removed]",
      "text/plain": [
       "<Figure size 432x288 with 1 Axes>"
      ]
     },
     "metadata": {
      "needs_background": "light"
     },
     "output_type": "display_data"
    }
   ],
   "source": [
    "def c_n(n,f,t, T):\n",
    "    \"\"\"\n",
    "    f is an array...is t? yes, we are integrating over all t\n",
    "    \"\"\"\n",
    "    cn = np.sum((1/T)*f*np.exp(2*np.pi*-1j*n*t/T))\n",
    "    #print('c_n=', cn)\n",
    "    return cn\n",
    "def f_at_one_time(time,n,f,t_vals, T):   \n",
    "    func = 2*c_n(n, f, t_vals, T)*np.exp(2*np.pi*1j*n*time/T)\n",
    "    return func.real\n",
    "\n",
    "def FourierTransform(f_vals,t_vals, N):\n",
    "    t= t_vals\n",
    "    T = int(t[-1])\n",
    "    f = f_vals\n",
    "    endpoint = np.mean([f[0], f[-1]])\n",
    "    f[0] = endpoint\n",
    "    f[-1] = endpoint\n",
    "    f = f - f[0]    \n",
    "    Fft_at_time= np.ndarray(len(t), dtype=np.complex128)\n",
    "    for i in range(len(Fft_at_time)):\n",
    "        Fft_at_time[i] = f_at_one_time(t[i], i+1, f, t, T)     \n",
    "    print(type(Fft_at_time))\n",
    "    print(np.shape(Fft_at_time))\n",
    "    return Fft_at_time, endpoint\n",
    "\n",
    "\n",
    "\n",
    "xt = np.array(horse_splines[0])\n",
    "t = np.array(horse_splines[2])\n",
    "yt = np.array(horse_splines[1])\n",
    "T = int(t[-1])\n",
    "print(T)\n",
    "#t = np.linspace(0, T, 1000)\n",
    "      \n",
    "#print(type(xt))\n",
    "#yt = np.array(horse_splines[1])\n",
    "#print(np.shape(xt))\n",
    "\n",
    "FT_x,x_o = FourierTransform(xt,t, 1)\n",
    "#print(type(FT_x))\n",
    "FT_y,yq_o = FourierTransform(yt,t, 1)\n",
    "#plt.plot(xt,yt, 'k.')\n",
    "plt.plot(FT_x, FT_y, 'c-')\n",
    "#plt.plot(x_o, y_o, 'r.')\n",
    "plt.plot(FT_x[0], FT_y[0], 'm.')\n",
    "\n",
    "\n",
    "#print(FT_x)\n",
    "#print(FT_y)\n",
    "    "
   ]
  },
  {
   "cell_type": "code",
   "execution_count": 441,
   "metadata": {},
   "outputs": [],
   "source": [
    "t_test = np.linspace(0, 2*np.pi, 1000)\n",
    "f_test = np.sin(t_test)\n"
   ]
  },
  {
   "cell_type": "code",
   "execution_count": 442,
   "metadata": {},
   "outputs": [],
   "source": [
    "def cn(f, t, n):\n",
    "    ##t needs to be from 0 to T interval. \n",
    "    T = t[-1]\n",
    "    delta_t = T/len(t)\n",
    "   # print(T)\n",
    "    integrand = (1/T)*f*np.exp(-1j*2*np.pi*n*t/T)\n",
    "    #print(type(integrand))\n",
    "    \n",
    "    integral =(sum(integrand))*delta_t\n",
    "    #print(type(integral))\n",
    "    return integral\n",
    "#outputs COMPLEX NUMBER\n",
    "\n"
   ]
  },
  {
   "cell_type": "code",
   "execution_count": 443,
   "metadata": {},
   "outputs": [
    {
     "name": "stdout",
     "output_type": "stream",
     "text": [
      "(-2.0621067181643721e-16+0j)\n"
     ]
    }
   ],
   "source": [
    "def f_one_x_one_n(f, t, n, cn, x):\n",
    "    T = t[-1]\n",
    "    term = cn*np.exp(1j*2*np.pi*n*x/T)\n",
    "    return term\n",
    "def fft_at_t(f,t,x, N): #Please o Please let N be even)\n",
    "    f_of_t = 0\n",
    "    #print('x=', x)\n",
    "    for i in range(-N//2,N//2+1):\n",
    "        c_i = cn(f,t,i)\n",
    "        #print('c_',i,'=',c_i)\n",
    "        additional_term =f_one_x_one_n(f,t,i,c_i,x)\n",
    "        f_of_t += additional_term\n",
    "        #print(i,'th term of f=', additional_term)\n",
    "    return f_of_t  \n",
    "test_fft_specific_t = fft_at_t(f_test, t_test, t_test[999], 2) \n",
    "print(test_fft_specific_t)"
   ]
  },
  {
   "cell_type": "code",
   "execution_count": 444,
   "metadata": {},
   "outputs": [
    {
     "data": {
      "text/plain": [
       "[<matplotlib.lines.Line2D at 0x23211526048>]"
      ]
     },
     "execution_count": 444,
     "metadata": {},
     "output_type": "execute_result"
    },
    {
     "data": {
      "image/png": "[encoded data removed]",
      "text/plain": [
       "<Figure size 432x288 with 1 Axes>"
      ]
     },
     "metadata": {
      "needs_background": "light"
     },
     "output_type": "display_data"
    }
   ],
   "source": [
    "def F_all_t(f, t, N):\n",
    "    FT_of_f = np.zeros(len(t))\n",
    "    \n",
    "    for i in range(len(t)):\n",
    "        FT_of_f[i] = fft_at_t(f, t, t[i], N).real\n",
    "    return FT_of_f\n",
    "fft_test = F_all_t(f_test, t_test, 2)\n",
    "plt.plot(t_test, fft_test, 'k.')\n",
    "#print(fft_test)\n"
   ]
  },
  {
   "cell_type": "code",
   "execution_count": null,
   "metadata": {},
   "outputs": [],
   "source": [
    "xt = np.array(horse_splines[0])\n",
    "t = np.array(horse_splines[2])\n",
    "yt = np.array(horse_splines[1])\n",
    "\n",
    "fft_x = F_all_t(xt, t, 150)\n",
    "fft_y = F_all_t(yt, t, 150)\n",
    "\n",
    "plt.plot(xt,yt)\n",
    "plt.plot(fft_x, fft_y)\n",
    "plt.plot(fft_x[0], fft_y[0], 'ko')\n",
    "plt.plot(xt[0], yt[0], 'ro')\n",
    "plt.plot(xt[-1], yt[-1], 'ro')\n",
    "plt.plot(fft_x[-1], fft_y[-1], 'm.')"
   ]
  },
  {
   "cell_type": "code",
   "execution_count": null,
   "metadata": {},
   "outputs": [],
   "source": []
  },
  {
   "cell_type": "code",
   "execution_count": 399,
   "metadata": {},
   "outputs": [
    {
     "name": "stdout",
     "output_type": "stream",
     "text": [
      "[1. 2.]\n"
     ]
    },
    {
     "data": {
      "text/plain": [
       "1"
      ]
     },
     "execution_count": 399,
     "metadata": {},
     "output_type": "execute_result"
    }
   ],
   "source": [
    "Test = np.array([[1,1,1,1,1], [1,0,0,0,1], [1,0,1,0,1], [1,1,1,1,1]])\n",
    "black = np.where(Test==0)\n",
    "black_coords = np.zeros((len(black[0]),2))\n",
    "\n",
    "for i in range(len(black[0])):\n",
    "    coord = np.array([black[0][i], black[1][i]])\n",
    "    black_coords[i] = coord\n",
    "    \n",
    "print(black_coords[1])\n",
    "\n",
    "start = np.array([1.,2.])\n",
    "\n",
    "PairCoord_Index(start, black_coords)\n",
    "    \n",
    "#pair_dict = dict()\n",
    "#for i in enumerate(black_coords):\n",
    "#    coord_str = str(i[1])\n",
    "#    print(coord_str)\n",
    "#    pair_dict[coord_str] = i[0]\n",
    "#    \n",
    "#print(pair_dict)\n",
    "\n",
    "#print(pair_dict[str()])\n",
    "\n",
    "#print(pairer_dict)\n",
    "    \n",
    "# dictionary where keys are coordinates and the values are the indices \n",
    "\n",
    "#print(BestPath(start, Test))"
   ]
  },
  {
   "cell_type": "code",
   "execution_count": 288,
   "metadata": {},
   "outputs": [
    {
     "data": {
      "text/plain": [
       "array([[1., 1.],\n",
       "       [1., 2.],\n",
       "       [1., 3.],\n",
       "       [2., 1.],\n",
       "       [2., 3.]])"
      ]
     },
     "execution_count": 288,
     "metadata": {},
     "output_type": "execute_result"
    }
   ],
   "source": [
    "black_coords"
   ]
  },
  {
   "cell_type": "code",
   "execution_count": null,
   "metadata": {},
   "outputs": [],
   "source": []
  },
  {
   "cell_type": "code",
   "execution_count": 6,
   "metadata": {},
   "outputs": [
    {
     "data": {
      "image/png": "[encoded data removed]",
      "text/plain": [
       "<Figure size 432x288 with 1 Axes>"
      ]
     },
     "metadata": {
      "needs_background": "light"
     },
     "output_type": "display_data"
    }
   ],
   "source": [
    "time = np.arange(0, len(black[0]),1)\n",
    "plt.plot(time, black[0], 'k.')\n",
    "plt.plot(time, black[1], 'r.')\n",
    "\n",
    "plt.show()"
   ]
  },
  {
   "cell_type": "code",
   "execution_count": 82,
   "metadata": {},
   "outputs": [
    {
     "name": "stdout",
     "output_type": "stream",
     "text": [
      "(7, 7)\n",
      "[[ 1  2  3  4  5]\n",
      " [ 6  0  0  0  7]\n",
      " [ 8  0  9  0 10]\n",
      " [11 12  0  0 13]\n",
      " [14 15 16 17 18]]\n",
      "[[ 1  2  3  4  5]\n",
      " [ 6  0  0  0  7]\n",
      " [ 8  0  9  0 10]\n",
      " [11 12  0  0 13]\n",
      " [14 15 16 17 18]]\n"
     ]
    },
    {
     "data": {
      "image/png": "[encoded data removed]",
      "text/plain": [
       "<Figure size 432x288 with 1 Axes>"
      ]
     },
     "metadata": {
      "needs_background": "light"
     },
     "output_type": "display_data"
    }
   ],
   "source": [
    "test = np.array([ [0, 255, 0, 255,0,255,0], [255,0,255,0,255,0,255], [0,255,0,255,0,255,0],\n",
    "                 \n",
    "                 [255,0, 255,0,255,0,255], [0,255,0,255,0,255,0],[255,0,255, 0,255, 0, 255], [0,255,0,255,0,255,0]])\n",
    "print(np.shape(test))\n",
    "newtest = np.array([[1, 2,3, 4, 5],[6,0,0,0,7],[8,0,9,0,10], [11,12,0,0,13],[14, 15,16, 17, 18]])\n",
    "b = np.where(test==0)\n",
    "w = np.where(test==255)\n",
    "time = np.arange(0, len(b[0]), 1)\n",
    "#plt.plot(time, b[0], 'ko')\n",
    "#plt.plot(time, b[1], 'r.')\n",
    "plt.show()\n",
    "#print(time)\n",
    "plt.imshow(newtest)\n",
    "#print(b)\n",
    "#print(w)\n",
    "#print(test[b])\n",
    "print(newtest)\n",
    "\n",
    "trythis = newtest\n",
    "print(trythis)"
   ]
  },
  {
   "cell_type": "markdown",
   "metadata": {},
   "source": [
    "EVERYTHING FROM n=2\n",
    "and\n",
    "up 3 left 1\n",
    "up 3 left 2    one extra\n",
    "up 3 left 3\n",
    "\n",
    "up 3 right 1\n",
    "up 3 right 2    one extra\n",
    "up 3 right 3\n",
    "\n",
    "down 3 left 1\n",
    "down 3 left 2    one extra\n",
    "down 3 left 3\n",
    "\n",
    "down 3 right 1\n",
    "down 3 right 2   one extra\n",
    "down 3 right 3\n",
    "\n",
    "down 1 left 3\n",
    "down 2 left 3\n",
    "\n",
    "down 1 right 3\n",
    "down 2 right 3\n",
    "\n",
    "up 1 left 3\n",
    "up 2 left 3\n",
    "up 1 right 3\n",
    "up 2 right 3\n",
    "\n",
    "\n",
    "\n",
    "\n",
    "\n",
    "\n",
    "16"
   ]
  },
  {
   "cell_type": "markdown",
   "metadata": {},
   "source": [
    "two up one left\n",
    "two down one left\n",
    "two up one right\n",
    "two down one right\n",
    "\n",
    "two up two left\n",
    "two down two left\n",
    "two up two right\n",
    "two down two right\n",
    "\n",
    "one up two left\n",
    "one up two right\n",
    "one down two left\n",
    "one down two right\n",
    "\n",
    "12 permutations for n=2\n",
    "\n",
    "for n =3\n"
   ]
  },
  {
   "cell_type": "code",
   "execution_count": 83,
   "metadata": {},
   "outputs": [
    {
     "name": "stdout",
     "output_type": "stream",
     "text": [
      "[[ 1  2  3  4  5]\n",
      " [ 6  0  0  0  7]\n",
      " [ 8  0  9  0 10]\n",
      " [11 12  0  0 13]\n",
      " [14 15 16 17 18]]\n",
      "[[ 1  2  3  4  5]\n",
      " [ 6  0  0  0  7]\n",
      " [ 8  0  9  0 10]\n",
      " [11 12  0  0 13]\n",
      " [14 15 16 17 18]]\n"
     ]
    }
   ],
   "source": [
    "\"\"\"\n",
    "here its should be a positive integer. for our purposes, imarray should be surrounded by a boarder of whites. \n",
    "hopefully by a large buffer of whites.\n",
    "\n",
    "\n",
    "\n",
    "\"\"\"\n",
    "def bottom(imarray, its):\n",
    "    new = np.roll(imarray, shift =-its, axis=0)\n",
    "   \n",
    "    return new\n",
    "\n",
    "def top(imarray, its):\n",
    "    new = np.roll(imarray, shift =its, axis=0)\n",
    "    return new\n",
    "\n",
    "\n",
    "def left(imarray, its):\n",
    "    new = np.roll(imarray, shift =-its, axis=1)\n",
    "    return new\n",
    "\n",
    "def right(imarray, its):\n",
    "    new = np.roll(imarray, shift =its, axis=1)\n",
    "\n",
    "    return new\n",
    "def  ne(imarray, northits, eastits):\n",
    "    north = top(imarray, northits)\n",
    "    east = left(north, eastits)\n",
    "    return east\n",
    "def  se(imarray, southits, eastits):\n",
    "    south = bottom(imarray, southits)\n",
    "    east = left(south, eastits)\n",
    "    return east\n",
    "\n",
    "def  sw(imarray, southits, westits):\n",
    "    south = bottom(imarray, southits)\n",
    "    west = right(south, westits)\n",
    "    return west\n",
    "def  nw(imarray, northits, westits):\n",
    "    north = top(imarray, northits)\n",
    "    west = right(north, westits)\n",
    "    return west\n",
    "    \n",
    "    \n",
    "#top(newtest, 1)\n",
    "print(newtest)\n",
    "print(trythis)"
   ]
  },
  {
   "cell_type": "code",
   "execution_count": 84,
   "metadata": {},
   "outputs": [
    {
     "name": "stdout",
     "output_type": "stream",
     "text": [
      "[[ 1  2  3  4  5]\n",
      " [ 6  0  0  0  7]\n",
      " [ 8  0  9  0 10]\n",
      " [11 12  0  0 13]\n",
      " [14 15 16 17 18]]\n",
      "moved south 1 moved west 1\n",
      "[1, 3]\n",
      "[[ 1  2  3  4  5]\n",
      " [ 6  0  0  0  7]\n",
      " [ 8  0  9  0 10]\n",
      " [11 12  0  0 13]\n",
      " [14 15 16 17 18]]\n",
      "[[ 1  2  3  4  5]\n",
      " [ 6  0  0  0  7]\n",
      " [ 8  0  9  0 10]\n",
      " [11 12  0  0 13]\n",
      " [14 15 16 17 18]]\n"
     ]
    }
   ],
   "source": [
    "print(newtest)\n",
    "#This is not going to work- how will I stop pickiing the same squares when I run this iteratively???\n",
    "\n",
    "def nextPixel(startx, starty, imarray, maxits):            #shoooooot this is not going to do euclidian distance(ie no diagonals)\n",
    "    its = 1\n",
    "    for i in range(1, maxits):\n",
    "        if top(imarray, i)[startx][starty]==0:\n",
    "            print('moved up', i)\n",
    "            return [startx-i, starty]\n",
    "        \n",
    "        elif left(imarray, i)[startx][starty]==0:\n",
    "            print('moved left', i)\n",
    "            return [startx, starty-i]#this is not right, need to return new coord not 0\n",
    "        \n",
    "        elif bottom(imarray, i)[startx][starty]==0:\n",
    "            print('moved down', i)\n",
    "            return [startx+i, starty]\n",
    "        \n",
    "        elif right(imarray, i)[startx][starty]==0:\n",
    "            print('moved right', i)\n",
    "            return [startx, starty+i]\n",
    "        \n",
    "        for j in range(1, its):\n",
    "            for k in range(1, its):\n",
    "                if ne(imarray, j, k)[startx][starty]==0:\n",
    "                    print( 'moved north', j, 'moved east', k)\n",
    "                    return [startx-j, starty+k]\n",
    "\n",
    "                elif se(imarray, j, k)[startx][starty]==0:\n",
    "                    print( 'moved south', j, 'moved east', k)\n",
    "                    return [startx+j, starty+k]\n",
    "\n",
    "                elif sw(imarray, j, k)[startx][starty]==0:\n",
    "                    print( 'moved south', j, 'moved west', k)\n",
    "                    return [startx+j, starty-k]\n",
    "\n",
    "                elif nw(imarray, j, k)[startx][starty]==0:\n",
    "                    print( 'moved north', j, 'moved west', k)\n",
    "                    return [startx-j, starty-k]\n",
    "       \n",
    "        else: its += 1\n",
    "    return 'no black pixles close by'\n",
    "\n",
    "\n",
    "#I really might make a new function for this at some point. It mightnot work as well as I would like.\n",
    "# there absolutley must be a fater way to do this\n",
    "# I guarentee it. Some package somewhere has something faster. \n",
    "#moving on for now. \n",
    "\n",
    "\n",
    "\"\"\"\n",
    "\n",
    "Wait wait wait\n",
    "I know the exact positions of each black pixle\n",
    "take distance between each of those values(for n black pixles should be n+n-1+...+1 number of calculations)\n",
    "find min value of the distances. \n",
    "\n",
    "\"\"\"\n",
    "coord = nextPixel(0,4, newtest, 5)\n",
    "print(coord)\n",
    "print(trythis)\n",
    "print(newtest)"
   ]
  },
  {
   "cell_type": "code",
   "execution_count": 73,
   "metadata": {},
   "outputs": [
    {
     "data": {
      "text/plain": [
       "array([[ 33, 113],\n",
       "       [ 33, 114],\n",
       "       [ 33, 115],\n",
       "       ...,\n",
       "       [363,  81],\n",
       "       [363, 132],\n",
       "       [363, 133]], dtype=int64)"
      ]
     },
     "execution_count": 73,
     "metadata": {},
     "output_type": "execute_result"
    }
   ],
   "source": [
    "blackcoords = np.transpose(black,copy = False, starting_point= \"random\" )\n",
    "\n",
    "from copy import deepcopy\n",
    "\n",
    "\n",
    "def closestpixel(start, blackcoords):\n",
    "    alldistances = scipy.spacial.cdist(start, blackcoords)\n",
    "    closest = argmin(alldistances)\n",
    "    \n",
    "    \n",
    "    if copy = True:\n",
    "        \n",
    "    \n",
    "        # Calcualte distance between each pair of coords\n",
    "        dist_mat = scipy.spacial.cdist(coord_list, coord_list, 'euclidean')   #need coord_list\n",
    "\n",
    "        # Initialize sear\\ch space with nearest neighbor tour\n",
    "        cities = coord_list\n",
    "        num_cities = len(cities)\n",
    "        if starting_point==\"random\":\n",
    "            start = int(np.random.choice(range(num_cities),size=1))\n",
    "        else:\n",
    "            assert starting_point < num_cities\n",
    "            start = starting_point\n",
    "        tour = [start]\n",
    "        active_city = start\n",
    "        for step in range(0, num_cities):\n",
    "            dist_row = deepcopy(dist_mat[active_city,:])     #need deep copy \n",
    "            for done in tour:\n",
    "                dist_row[done] = np.inf\n",
    "            nearest_neighbor = np.argmin(dist_row)\n",
    "            if nearest_neighbor not in tour:\n",
    "                tour.append(nearest_neighbor)\n",
    "            active_city = nearest_neighbor\n",
    "\n",
    "        y_tour = -np.array([cities[tour[i % num_cities]] for i in range(num_cities+1) ])[:,0]\n",
    "        y_tour = y_tour - y_tour[0]#- min(y_tour)\n",
    "        x_tour = np.array([cities[tour[i % num_cities]] for i in range(num_cities+1) ])[:,1]    \n",
    "        x_tour = x_tour - x_tour[0]#- min(x_tour)\n",
    "\n",
    "        # Circle tour back to beginning\n",
    "        np.append(x_tour, x_tour[0])\n",
    "        np.append(y_tour, y_tour[0])\n",
    "        num_cities = num_cities + 1\n",
    "        \n",
    "    "
   ]
  },
  {
   "cell_type": "code",
   "execution_count": 87,
   "metadata": {},
   "outputs": [
    {
     "name": "stdout",
     "output_type": "stream",
     "text": [
      "[[  1   2   3   4   5]\n",
      " [255 255   0 255   7]\n",
      " [  8   0   9 255  10]\n",
      " [ 11 255   0 255 255]\n",
      " [ 14  15  16  17  18]]\n",
      "[[  1   2   3   4   5]\n",
      " [255 255   0 255   7]\n",
      " [  8   0   9 255  10]\n",
      " [ 11 255   0 255 255]\n",
      " [ 14  15  16  17  18]]\n",
      "[[  1   2   3   4   5]\n",
      " [255 255   0 255   7]\n",
      " [  8   0   9 255  10]\n",
      " [ 11 255   0 255 255]\n",
      " [ 14  15  16  17  18]]\n",
      "0\n",
      "moved left 1\n",
      "1\n",
      "moved left 2\n",
      "2\n",
      "moved right 1\n"
     ]
    },
    {
     "data": {
      "text/plain": [
       "[[1, 0], [1, -2], [1, -1]]"
      ]
     },
     "execution_count": 87,
     "metadata": {},
     "output_type": "execute_result"
    }
   ],
   "source": [
    "\"\"\"\n",
    "the goal for this function is to make something that iteratively calls next pixle until 'most'\n",
    "of the elements of black pixels have been used, never going backwards? somethimes you want to\n",
    "go backwards I feel. Oh jeeze I dont know.\n",
    "Lets say for now, 90% of the black pixles have been used, and non are reused.\n",
    "\n",
    "        Input: starting point, array\n",
    "        path = []\n",
    "        make a copy of array that we wil mess with\n",
    "        find total number of pixles of og array\n",
    "        while len(path)< .9*total number of pixles of og array)     maybe make .9 configurable. \n",
    "            run next pixle on starting point, copy of array \n",
    "            append path with next pixle\n",
    "            delete starting point from copy of array\n",
    "            update starting point with result of next pixle\n",
    "        return path\n",
    "lets try it\n",
    "\"\"\"\n",
    "\n",
    "def PathMaker(startx, starty, array):\n",
    "    x = startx\n",
    "    y = starty\n",
    "    path = []\n",
    "    copy = array\n",
    "    blacks = np.where(0==array)\n",
    "    nblacks = len(blacks[0])\n",
    "    percent = .9\n",
    "    print(copy)\n",
    "    while len(path) < percent*nblacks:\n",
    "        maxits = 15\n",
    "        print(len(path))\n",
    "        newpos = nextPixel(x, y, copy, maxits)\n",
    "        path.append(newpos)\n",
    "        copy[x][y]=255\n",
    "        x = newpos[0]\n",
    "        y = newpos[1]\n",
    "    return path\n",
    "\n",
    "PathMaker(1, 1, newtest)\n",
    "#plt.imshow(newtest)\n"
   ]
  },
  {
   "cell_type": "code",
   "execution_count": null,
   "metadata": {},
   "outputs": [],
   "source": [
    " left = np.roll(lattice, shift=-1, axis=1) #the acctual directions are accurate up to a change in basis ;) \n",
    "    #print(left)\n",
    "    right = np.roll(lattice, shift=1, axis=1)\n",
    "    #print(right)\n",
    "     #print(top)\n",
    "    bottom = np.roll(lattice, shift = 1, axis =0)"
   ]
  },
  {
   "cell_type": "code",
   "execution_count": null,
   "metadata": {},
   "outputs": [],
   "source": []
  },
  {
   "cell_type": "code",
   "execution_count": null,
   "metadata": {},
   "outputs": [],
   "source": []
  },
  {
   "cell_type": "code",
   "execution_count": 26,
   "metadata": {},
   "outputs": [
    {
     "data": {
      "image/png": "[encoded data removed]",
      "text/plain": [
       "<Figure size 432x288 with 1 Axes>"
      ]
     },
     "metadata": {
      "needs_background": "light"
     },
     "output_type": "display_data"
    }
   ],
   "source": [
    "\n",
    "import matplotlib.image as mpimg\n",
    "\n",
    "def rgb2gray(rgb):\n",
    "    return np.dot(rgb[...,:3], [0.2989, 0.5870, 0.1140])\n",
    "\n",
    "img = mpimg.imread('greyish.jpg') #will read circle.png as a     \n",
    "gray = rgb2gray(img)    \n",
    "plt.imshow(gray, cmap=plt.get_cmap('gray'), vmin=0, vmax=1)\n",
    "plt.show()        \n",
    "        \n",
    "#Now How the heck do I make a parametrization by lines??? "
   ]
  },
  {
   "cell_type": "code",
   "execution_count": 10,
   "metadata": {},
   "outputs": [],
   "source": [
    "from PIL import Image \n",
    "image_file = Image.open(\"greyish.jpg\") # open colour image\n",
    "image_file = image_file.convert('1') # convert image to black and white\n",
    "image_file.save('bwgreyish.png')\n"
   ]
  },
  {
   "cell_type": "code",
   "execution_count": null,
   "metadata": {},
   "outputs": [],
   "source": [
    "\n"
   ]
  },
  {
   "cell_type": "code",
   "execution_count": null,
   "metadata": {},
   "outputs": [],
   "source": []
  },
  {
   "cell_type": "code",
   "execution_count": 109,
   "metadata": {},
   "outputs": [
    {
     "name": "stdout",
     "output_type": "stream",
     "text": [
      "(127, 139, 4)\n",
      "(127, 139, 3)\n",
      "(127, 139, 4)\n"
     ]
    },
    {
     "data": {
      "text/plain": [
       "<matplotlib.image.AxesImage at 0x23d20507be0>"
      ]
     },
     "execution_count": 109,
     "metadata": {},
     "output_type": "execute_result"
    },
    {
     "data": {
      "text/plain": [
       "<Figure size 432x288 with 0 Axes>"
      ]
     },
     "metadata": {},
     "output_type": "display_data"
    },
    {
     "data": {
      "text/plain": [
       "<Figure size 432x288 with 0 Axes>"
      ]
     },
     "metadata": {},
     "output_type": "display_data"
    },
    {
     "data": {
      "image/png": "[encoded data removed]",
      "text/plain": [
       "<Figure size 432x288 with 1 Axes>"
      ]
     },
     "metadata": {
      "needs_background": "light"
     },
     "output_type": "display_data"
    }
   ],
   "source": [
    "#Screw it lets start making an image detetor:\n",
    "\n",
    "hexagon = Import('hexagon.png')\n",
    "circle = Import('circle.png')\n",
    "hello = Import('helloworld.png')\n",
    "#These should be very different \n",
    " \n",
    "hexagon= np.array(hexagon)\n",
    "circle = np.array(circle)\n",
    "hello = np.array(hello)\n",
    "\n",
    "print(np.shape(hexagon))\n",
    "print(np.shape(circle))\n",
    "print(np.shape(hello))\n",
    "\n",
    "for i in range(len(hexagon)):\n",
    "    for j in range(len(hexagon[0])):\n",
    "        if hello[i][j][3]!= 1:\n",
    "            print [i,j]\n",
    "resizehello = np.zeros(np.shape(circle))\n",
    "resizehexagon = np.zeros(np.shape(circle))\n",
    "for i in range(len(circle)):\n",
    "    for j in range(len(circle[0])):\n",
    "        for k in range(len(circle[0][0])):\n",
    "            resizehello[i][j][k] = hello[i][j][k]\n",
    "            resizehexagon[i][j][k] = hello[i][j][k]\n",
    "            \n",
    "#plt.imshow(resizehello)\n",
    "def ImageDetector(TrueImage, GeneratedImage):\n",
    "    \"\"\"\n",
    "    True image and Generated Image should be arrays of the same dimension\n",
    "    \"\"\"\n",
    "    TI = TrueImage\n",
    "    GI = GeneratedImage\n",
    "    ##Put Montecarlo In place here\n",
    "    \n",
    "    "
   ]
  },
  {
   "cell_type": "code",
   "execution_count": null,
   "metadata": {},
   "outputs": [],
   "source": []
  }
 ],
 "metadata": {
  "kernelspec": {
   "display_name": "Python 3",
   "language": "python",
   "name": "python3"
  },
  "language_info": {
   "codemirror_mode": {
    "name": "ipython",
    "version": 3
   },
   "file_extension": ".py",
   "mimetype": "text/x-python",
   "name": "python",
   "nbconvert_exporter": "python",
   "pygments_lexer": "ipython3",
   "version": "3.7.3"
  }
 },
 "nbformat": 4,
 "nbformat_minor": 2
}
