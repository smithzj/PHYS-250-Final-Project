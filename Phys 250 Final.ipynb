{
 "cells": [
  {
   "cell_type": "code",
   "execution_count": 1,
   "metadata": {},
   "outputs": [],
   "source": [
    "%matplotlib inline\n",
    "import numpy as np\n",
    "import scipy.signal as signal    # Notice this one is new!\n",
    "import matplotlib.pyplot as plt\n",
    "from matplotlib import cm as colormap\n",
    "from mpl_toolkits.mplot3d import Axes3D\n",
    "import math\n",
    "import cmath\n",
    "from scipy import interpolate \n",
    "from scipy.spatial import distance \n",
    "from copy import deepcopy"
   ]
  },
  {
   "cell_type": "code",
   "execution_count": 2,
   "metadata": {},
   "outputs": [],
   "source": [
    "\n",
    "def Import(photo):\n",
    "    img = plt.imread(photo)\n",
    "    #plt.figure()\n",
    "    \n",
    "    #plt.imshow(img)\n",
    "    return img\n",
    "\n",
    "#turn image into array \n",
    "def NotGray(thresh, image):\n",
    "    imarray = np.array(image)\n",
    "    if len(imarray[0][0]) == 4:\n",
    "        return \"you put in a RBGA image\"\n",
    "    #makeit truely black and white:\n",
    "    else:\n",
    "        for i in range(len(imarray)):\n",
    "            for j in range(len(imarray[0])):\n",
    "                #print(imarray[0][0])\n",
    "                for k in range(3):\n",
    "                    #thresh = 200             #by raising this will pick up more grey values included\n",
    "                                            #will be darker/more continuous but also more noisy- this might becom param of eqn.\n",
    "                    if imarray[i][j][k] < thresh:\n",
    "                        imarray[i][j][k]=0     #0 is what 'black' is for python color codes\n",
    "                    else: imarray[i][j][k]=255 #255 is 'white' \n",
    "    return imarray\n",
    "#this will show the pure black and white image\n",
    "                            #These following lines are just to check that now each triplet have the same values(it comes from the RGB plt.imread)\n",
    "                            #for i in range(len(imarray)):            \n",
    "                            #    for j in range(len(imarray[0])):\n",
    "                            #        for k in range(len(imarray[0][0])):\n",
    "                            #             if imarray[i][j][k] != imarray[i][j][0]:\n",
    "                            #                print(imarray[i][j])\n",
    "def CollapseRBG(array):  #array is NxMx3\n",
    "    bwimarray = np.zeros([len(array), len(array[0])])  #Here I am turning my RBG array into a BW array (Collapsing third dim)\n",
    "    for i in range(len(array)):\n",
    "        for j in range(len(array[0])):\n",
    "            bwimarray[i][j] = array[i][j][0]    #Setting each element the array to the last elemet of the triplet since they are all the same.      \n",
    "    return bwimarray                                        #This might be kinda messed up if the photo you upload isnt black and white. But it shouldent be too messed up\n",
    "\n",
    "def FinalSize(array):\n",
    "    fin_x_dim = len(array)\n",
    "    fin_y_dim = len(array[0])\n",
    "    return fin_x_dim, fin_y_dim\n",
    "    \n",
    "def black_coords(array):\n",
    "    black = np.where(array==0)\n",
    "    b = np.zeros([len(black[0]),2])\n",
    "    #print(len(black[0]))\n",
    "    for i in range(len(black[0])):\n",
    "        coord = np.array([black[0][i], black[1][i]])\n",
    "        b[i] = coord\n",
    "    return b\n",
    "\n",
    "def PairCoord_Index(start, coordslist): \n",
    "    \"\"\"\n",
    "    start needs to be an np.array([x,y]) where [x,y] in coordlist\n",
    "    and x, y are floats\n",
    "    this is going to be finicky \n",
    "    \"\"\"\n",
    "    pair_dict = dict()\n",
    "    start_str = str(start)\n",
    "    for i in enumerate(coordslist):\n",
    "        coord_str = str(i[1])\n",
    "        #print(coord_str)\n",
    "        pair_dict[coord_str] = i[0]\n",
    "    return pair_dict[start_str]\n",
    "\n",
    "\n",
    "###distance between each black coord with another\n",
    "def Distance(coord_list):\n",
    "    distance_matrix = distance.cdist(coord_list, coord_list)\n",
    "    return distance_matrix\n",
    "\n",
    "\n",
    "#having checked this with rainbows, it honestly workes as expected. a little slow for a 440 KB photo, rel fast for 140 KB\n",
    "#for rainbow picture with lower thresh, will be difference in bwimarray with what is plotted(choosing R, B or G)\n",
    "#I think just always put a reg picture in that happens to only be greyscale. \n",
    "\n"
   ]
  },
  {
   "cell_type": "code",
   "execution_count": 3,
   "metadata": {},
   "outputs": [],
   "source": [
    "def BestPath(start, array):\n",
    "    \"\"\"\n",
    "    Start in form np.array([x., y.])\n",
    "    \"\"\"\n",
    "    coordinates = black_coords(array)\n",
    "    #print(len(coordinates))\n",
    "    matrix = Distance(coordinates)\n",
    "    sp = PairCoord_Index(start, coordinates)\n",
    "    path_coord_x = [coordinates[sp][0]]\n",
    "    path_coord_y = [coordinates[sp][1]]\n",
    "    #print(sp)\n",
    "    path_index = [sp]\n",
    "    #print('len(coordinates)')\n",
    "    #print(len(coordinates))\n",
    "    for i in range(len(coordinates)):\n",
    "        row = matrix[sp,:]\n",
    "        for j in path_index:\n",
    "            row[j] = np.infty\n",
    "        closest = np.argmin(row)\n",
    "        #print('for i=', i, 'closest =', closest)\n",
    "        path_coord_x.append(coordinates[closest][0])\n",
    "        path_coord_y.append(coordinates[closest][1])\n",
    "        path_index.append(closest)\n",
    "        sp = closest\n",
    "    path_coord_x.append(path_coord_x[0])\n",
    "    path_coord_y.append(path_coord_y[0])\n",
    "    path_index.append(path_index[0])\n",
    "    return path_coord_x, path_coord_y\n",
    "    \n"
   ]
  },
  {
   "cell_type": "code",
   "execution_count": 30,
   "metadata": {},
   "outputs": [],
   "source": [
    "from scipy.interpolate import UnivariateSpline\n",
    "##Going to make line approximation; using UnivariateSpline \n",
    "##Splines are linear approximations to a line. \n",
    "\n",
    "def lineapprox(path_x, path_y, plot=True, num_evals=1000):\n",
    "    arange = np.arange(0, len(path_x),1)\n",
    "    path_x_array = np.array(path_x)\n",
    "    path_y_array = np.array(path_y)\n",
    "    flip_y = -1*path_y_array\n",
    "    x_approx = UnivariateSpline(arange, path_x_array)\n",
    "    y_approx = UnivariateSpline(arange, path_y_array)\n",
    "    #print(type(x_approx))\n",
    "    # print(x_approx.size)\n",
    "    x_approx_array = [0] * num_evals\n",
    "    y_approx_array = [0] * num_evals\n",
    "    index = 0\n",
    "    for v in (np.linspace(0, len(path_x)-1, num_evals)):\n",
    "        #print('type in here: ', type(x_approx(v)))\n",
    "        #print('this item: ', x_approx(v))\n",
    "        x_approx_array[index] = float(x_approx(v))\n",
    "        y_approx_array[index] = float(y_approx(v))\n",
    "        index += 1\n",
    "    #print(x_approx_array)\n",
    "    #print(y_approx_array)\n",
    "    t = np.linspace(0, len(path_x), num_evals)\n",
    "    endpoint_x = np.mean([x_approx_array[0], x_approx_array[-1]])\n",
    "    x_approx_array[0] = endpoint_x\n",
    "    x_approx_array[-1] = endpoint_x\n",
    "    x_approx_array = x_approx_array - x_approx_array[0]                      \n",
    "          \n",
    "    endpoint_y = np.mean([y_approx_array[0], y_approx_array[-1]])\n",
    "    y_approx_array[0] = endpoint_y\n",
    "    y_approx_array[-1] = endpoint_y\n",
    "    y_approx_array = y_approx_array - y_approx_array[0]\n",
    "    \n",
    "    if plot == True:\n",
    "        #plt.plot(x,y, 'k')\n",
    "        #plt.plot(*zip(*[(x_approx(v), y_approx(v)) for v in np.linspace(0, len(path_x)-1, 1000)]))\n",
    "        plt.plot(x_approx_array, y_approx_array)\n",
    "        plt.axis('equal')\n",
    "        #plt.gca().invert_xaxis()\n",
    "        #plt.gca().invert_yaxis()\n",
    "        #plt.plot(splines)\n",
    "        #plt.plot(arange, x_approx)\n",
    "        #pltl.plot(arange, y_approx)\n",
    "    return x_approx_array, y_approx_array,t\n"
   ]
  },
  {
   "cell_type": "code",
   "execution_count": 5,
   "metadata": {},
   "outputs": [],
   "source": [
    "def cn(f, t, n):\n",
    "    ##t needs to be from 0 to T interval. \n",
    "    T = t[-1]\n",
    "    delta_t = T/len(t)\n",
    "    \n",
    "    integrand = (1/T)*f*np.exp(-1j*2*np.pi*n*t/T)\n",
    "    integral =(sum(integrand))*delta_t\n",
    "    \n",
    "    return integral\n",
    "#outputs COMPLEX NUMBER\n",
    "\n"
   ]
  },
  {
   "cell_type": "code",
   "execution_count": 6,
   "metadata": {},
   "outputs": [],
   "source": [
    "def f_one_x_one_n(f, t, n, cn, x):\n",
    "    T = t[-1]\n",
    "    term = cn*np.exp(1j*2*np.pi*n*x/T)\n",
    "    return term\n",
    "\n",
    "\n",
    "def fft_at_t(f,t,x, N, c): #Please o Please let N be even\n",
    "    f_of_t = 0\n",
    "    #print('x=', x)\n",
    "    #c is an array \n",
    "    count_from_0 = 0\n",
    "    for i in range(-N//2,N//2+1):\n",
    "        c_i =c[count_from_0]\n",
    "        \n",
    "        additional_term =f_one_x_one_n(f,t,i,c_i,x)\n",
    "        f_of_t += additional_term\n",
    "        #print(i,'th term of f=', np.round(additional_term, decimals= 3))\n",
    "        count_from_0 += 1\n",
    "    return f_of_t  \n"
   ]
  },
  {
   "cell_type": "code",
   "execution_count": 7,
   "metadata": {
    "scrolled": true
   },
   "outputs": [],
   "source": [
    "def F_all_t(f, t, N):\n",
    "    FT_of_f = np.zeros(len(t))\n",
    "    c = np.zeros(N+1, dtype = np.complex_)\n",
    "    count = -N//2\n",
    "    for j in range(N+1):        \n",
    "        c[j] = cn(f,t,count)  ##c will be the set of coefficients evaluated at -N//2 to N//2+1\n",
    "        count += 1            ### we will only be calculating c once.\n",
    "        \n",
    "    for i in range(len(t)):\n",
    "        FT_of_f[i] = np.round(fft_at_t(f, t, t[i], N, c).real)    #This is takes imout of c as an array\n",
    "    return FT_of_f\n",
    "\n",
    "def PutInPlace(x_vals, y_vals, bw_array):  \n",
    "    black_coords_real = np.where(bw_array == 0)\n",
    "    black_real_x = black_coords_real[0]\n",
    "    black_real_y = black_coords_real[1]\n",
    "    x_real_min = min(black_real_x)\n",
    "    y_real_min = min(black_real_y)\n",
    "    \n",
    "\n",
    "    x_fft_min = min(x_vals)\n",
    "    y_fft_min = min(y_vals)\n",
    "    if x_fft_min != x_real_min:\n",
    "        x_vals = x_vals + (x_real_min - x_fft_min)\n",
    "    return x_vals, y_vals\n",
    "\n",
    "#fft_test = F_all_t(f_test, t_test, 2)\n",
    "#plt.plot(t_test, fft_test, 'k')\n",
    "\n",
    "\n"
   ]
  },
  {
   "cell_type": "code",
   "execution_count": 27,
   "metadata": {},
   "outputs": [],
   "source": [
    "from PIL import Image\n",
    "\n",
    "def SavePlot(x_vals, y_vals, outputname):\n",
    "    plt.figure(figsize=(15,15))\n",
    "    plt.axis('equal')\n",
    "    plt.plot(x_vals, y_vals, 'k-', linewidth =5)\n",
    "    plt.axis('off')\n",
    "    \n",
    "    #axes.get_xaxis().set_visible(False)\n",
    "    #axes.get_yaxis().set_visible(False)\n",
    "    plt.savefig(outputname, dpi=95,pad_inches=0)\n",
    "    plt.close()\n",
    "    \n",
    "def NotGrey01(array):  #array should be NxM converted from png\n",
    "    for i in range(len(array)):\n",
    "        for j in range(len(array[0])):\n",
    "            if 0 <= array[i][j]<=.25:\n",
    "                array[i][j] = 0\n",
    "            else:\n",
    "                array[i][j] =255\n",
    "    return array   \n",
    "    \n"
   ]
  },
  {
   "cell_type": "code",
   "execution_count": 31,
   "metadata": {},
   "outputs": [],
   "source": [
    "def SetUpPicture(file_name, thresh_ng=200, start=0, PlotParam=False, evals_line_approx=1000, Save=False, save_plot_as='generic_name', IImport=False, plot_import=False, debug= False ):\n",
    "    \n",
    "    image = Import(file_name)\n",
    "    if debug== True: \n",
    "        print('import done')\n",
    "    image_ng = NotGray(thresh_ng, image)  #dtype array\n",
    "    if debug== True: \n",
    "        print('not_grey done')\n",
    "    image_bw = CollapseRBG(image_ng)\n",
    "    if debug== True: \n",
    "        print('collapseRBG done')\n",
    "    blk_coords = black_coords(image_bw)\n",
    "    if debug== True: \n",
    "        print('black_coords found')\n",
    "    path_through_black = BestPath(blk_coords[start], image_bw)\n",
    "    if debug== True: \n",
    "        print('path found')\n",
    "    splines = lineapprox(path_through_black[0], path_through_black[1], plot=PlotParam, num_evals= evals_line_approx)\n",
    "    if debug== True: \n",
    "        print('lineapprox done')\n",
    "    xt = splines[0]\n",
    "    yt = splines[1]\n",
    "    t = splines[2]\n",
    "    if Save == True:\n",
    "        SavePlot(xt, yt, save_plot_as)\n",
    "        if debug== True: \n",
    "            print('saveplot done')\n",
    "        if IImport == True:\n",
    "            imported_img = Import(save_plot_as+'.png')\n",
    "            if debug == True: \n",
    "                print('import done')\n",
    "            imported_array = np.array(imported_img)\n",
    "            imported_bw = CollapseRBG(imported_array)\n",
    "            if debug== True: \n",
    "                print('imported collapse RBGA done')\n",
    "            imported_255 = NotGrey01(imported_bw)\n",
    "            if debug== True: \n",
    "                print('NotGrey01 done')\n",
    "            if plot_import == True:\n",
    "                plt.imshow(imported_255)\n",
    "            return xt, yt, t, imported_255\n",
    "    else: return xt, yt, t, 'no import here'"
   ]
  },
  {
   "cell_type": "code",
   "execution_count": 33,
   "metadata": {},
   "outputs": [],
   "source": [
    "def PreformFourier(xt, yt, t, N, Plot_fft=False, Save=False, save_plot_as='generic_approx', IImport=False,plot_import=False, debug=False):\n",
    "    fft_x = F_all_t(xt, t, N)\n",
    "    fft_y = F_all_t(yt, t, N)\n",
    "    if debug== True: \n",
    "        print(\"fft's done\")\n",
    "    if Plot_fft == True:\n",
    "        plt.plot(fft_x,fft_y)\n",
    "    if Save == True:\n",
    "        SavePlot(fft_x, fft_y, save_plot_as)\n",
    "        if debug== True: \n",
    "            print('SavePlot done')\n",
    "        if IImport == True:\n",
    "            imported_img = Import(save_plot_as+'.png')\n",
    "            if debug== True: \n",
    "                print('import done')\n",
    "            imported_array = np.array(imported_img)\n",
    "            imported_bw = CollapseRBG(imported_array)\n",
    "            if debug== True: \n",
    "                print('collapse RBGA done')\n",
    "            imported_255 = NotGrey01(imported_bw)\n",
    "            if debug== True: \n",
    "                print('NotGrey01 done')\n",
    "            if plot_import == True:\n",
    "                plt.imshow(imported_255)\n",
    "            return imported_255\n",
    "    else: return 'no imported image'\n"
   ]
  },
  {
   "cell_type": "code",
   "execution_count": 71,
   "metadata": {},
   "outputs": [],
   "source": [
    "def JustImport(save_plot_as, IImport =False, plot_import=False, debug =False):\n",
    "    imported_img = Import(save_plot_as+'.png')\n",
    "    if debug == True: \n",
    "        print('import done')\n",
    "    imported_array = np.array(imported_img)\n",
    "    imported_bw = CollapseRBG(imported_array)\n",
    "    if debug== True: \n",
    "        print('imported collapse RBGA done')\n",
    "    imported_255 = NotGrey01(imported_bw)\n",
    "    if debug== True: \n",
    "        print('NotGrey01 done')\n",
    "    if plot_import == True:\n",
    "        plt.imshow(imported_255)\n",
    "    return imported_255"
   ]
  },
  {
   "cell_type": "code",
   "execution_count": 15,
   "metadata": {},
   "outputs": [],
   "source": [
    "def ImageDetector(TrueImage, GeneratedImage):\n",
    "    \"\"\"\n",
    "    True image and Generated Image should be arrays of the same dimension\n",
    "    \"\"\"\n",
    "    TI = TrueImage\n",
    "    GI = GeneratedImage\n",
    "    num_same= 0\n",
    "    for i in range(len(TI)):\n",
    "        for j in range(len(TI[0])):\n",
    "            if TI[i][j] == GI[i][j]:\n",
    "                num_same += 1\n",
    "    num_pix= len(TI)*len(TI[0])\n",
    "    return num_same/num_pix"
   ]
  },
  {
   "cell_type": "code",
   "execution_count": 294,
   "metadata": {},
   "outputs": [
    {
     "data": {
      "text/plain": [
       "<matplotlib.image.AxesImage at 0x1e85c8710b8>"
      ]
     },
     "execution_count": 294,
     "metadata": {},
     "output_type": "execute_result"
    },
    {
     "data": {
      "image/png": "[encoded data removed]",
      "text/plain": [
       "<Figure size 432x288 with 1 Axes>"
      ]
     },
     "metadata": {
      "needs_background": "light"
     },
     "output_type": "display_data"
    }
   ],
   "source": [
    "pheonix= Import('pheonix.jpg')\n",
    "#plt.imshow(pheonix)\n",
    "pheonix_array = np.array(pheonix)\n",
    "pheonix_ng = NotGray(120, pheonix)\n",
    "plt.imshow(pheonix_ng)\n"
   ]
  },
  {
   "cell_type": "code",
   "execution_count": 295,
   "metadata": {},
   "outputs": [
    {
     "data": {
      "text/plain": [
       "<matplotlib.image.AxesImage at 0x1e854c4b160>"
      ]
     },
     "execution_count": 295,
     "metadata": {},
     "output_type": "execute_result"
    },
    {
     "data": {
      "image/png": "[encoded data removed]",
      "text/plain": [
       "<Figure size 432x288 with 1 Axes>"
      ]
     },
     "metadata": {
      "needs_background": "light"
     },
     "output_type": "display_data"
    }
   ],
   "source": [
    "pheonix_bw = CollapseRBG(pheonix_ng)\n",
    "black_coords_pheonix = black_coords(pheonix_bw)\n",
    "plt.imshow(pheonix_bw)\n",
    "#calvin_path =BestPath(black_coords_calvin[0], calvin_bw)"
   ]
  },
  {
   "cell_type": "code",
   "execution_count": 97,
   "metadata": {},
   "outputs": [
    {
     "name": "stdout",
     "output_type": "stream",
     "text": [
      "import done\n",
      "not_grey done\n",
      "collapseRBG done\n",
      "black_coords found\n",
      "path found\n",
      "lineapprox done\n",
      "saveplot done\n",
      "import done\n",
      "imported collapse RBGA done\n",
      "NotGrey01 done\n"
     ]
    },
    {
     "data": {
      "image/png": "[encoded data removed]",
      "text/plain": [
       "<Figure size 432x288 with 1 Axes>"
      ]
     },
     "metadata": {
      "needs_background": "light"
     },
     "output_type": "display_data"
    }
   ],
   "source": [
    "pheonix_x, pheonix_y, pheonix_t, pheonix_param = SetUpPicture('pheonix.jpg', start=3000, thresh_ng=120, PlotParam=False, evals_line_approx=1000, Save=True, save_plot_as='phil_param', IImport=True, plot_import=True, debug= True)"
   ]
  },
  {
   "cell_type": "code",
   "execution_count": null,
   "metadata": {},
   "outputs": [],
   "source": []
  },
  {
   "cell_type": "code",
   "execution_count": 18,
   "metadata": {},
   "outputs": [
    {
     "name": "stdout",
     "output_type": "stream",
     "text": [
      "import done\n",
      "not_grey done\n",
      "collapseRBG done\n",
      "black_coords found\n",
      "path found\n",
      "lineapprox done\n",
      "saveplot done\n",
      "import done\n",
      "imported collapse RBGA done\n",
      "NotGrey01 done\n"
     ]
    },
    {
     "data": {
      "image/png": "[encoded data removed]",
      "text/plain": [
       "<Figure size 432x288 with 1 Axes>"
      ]
     },
     "metadata": {
      "needs_background": "light"
     },
     "output_type": "display_data"
    }
   ],
   "source": [
    "napoleon_x, napoleon_y, napoleon_t, napoleon_param = SetUpPicture('napoleon_rbg.jpg', start=-1, PlotParam=True, evals_line_approx=1000, Save=True, save_plot_as='napoleon_param', IImport=True, plot_import=True, debug= True)"
   ]
  },
  {
   "cell_type": "code",
   "execution_count": 19,
   "metadata": {},
   "outputs": [],
   "source": [
    "N_vals_1 = np.arange(2, 633, 10) \n",
    "N_vals_3 = np.arange(730, 1231, 10)\n",
    "N_vals_4 = np.arange(640, 730, 10)\n",
    "\n"
   ]
  },
  {
   "cell_type": "code",
   "execution_count": 50,
   "metadata": {},
   "outputs": [],
   "source": [
    "#N_vals_1 = np.arange(2, 633, 10) \n",
    "#N_vals_2 = np.arange(30, 631, 100)\n",
    "#N_vals = np.concatenate((N_vals_1, N_vals_2))\n",
    "#N_vals_3 = np.arange(630, 1230, 100)\n",
    "#napoleon_big_array = []\n",
    "#for n in N_vals_1:\n",
    "#    name = 'napoleon' + str(n)\n",
    "#    list_n = PreformFourier(napoleon_x, napoleon_y, napoleon_t,n,Save=True, save_plot_as=name, IImport=True,plot_import=False, debug=False)\n",
    "#    napoleon_big_array.append(list_n)\n",
    "    #print(n, 'is done')\n",
    "#print(napoleon_big_array)"
   ]
  },
  {
   "cell_type": "code",
   "execution_count": 51,
   "metadata": {},
   "outputs": [],
   "source": [
    "##N_vals_3 = np.arange(730, 1231, 10)\n",
    "#napoleon_big_array_3 = []\n",
    "#for n in N_vals_3:\n",
    "#    name = 'napoleon' + str(n)\n",
    "##    list_n = PreformFourier(napoleon_x, napoleon_y, napoleon_t,n,Save=True, save_plot_as=name, IImport=True,plot_import=False, debug=False)\n",
    "#    napoleon_big_array_3.append(list_n)\n",
    "#    print(n, 'is done')\n"
   ]
  },
  {
   "cell_type": "code",
   "execution_count": 52,
   "metadata": {},
   "outputs": [],
   "source": [
    "#N_vals_4 = np.arange(640, 730, 10)\n",
    "##napoleon_big_array_4 = []\n",
    "#for n in N_vals_4:\n",
    "#    name = 'napoleon' + str(n)\n",
    "#    list_n = PreformFourier(napoleon_x, napoleon_y, napoleon_t,n,Save=True, save_plot_as=name, IImport=True,plot_import=False, debug=False)\n",
    "#    napoleon_big_array_4.append(list_n)\n",
    "#    print(n, 'is done')"
   ]
  },
  {
   "cell_type": "code",
   "execution_count": 53,
   "metadata": {},
   "outputs": [],
   "source": [
    "#napoleon_to_1230 = np.concatenate((napoleon_big_array, napoleon_big_array_3))\n",
    "#napoleon_to_1230 = np.concatenate((napoleon_to_1230, napoleon_big_array_4))\n",
    "#print(len(napoleon_to_1230))"
   ]
  },
  {
   "cell_type": "code",
   "execution_count": 364,
   "metadata": {},
   "outputs": [],
   "source": [
    "#precent_sim = np.zeros([len(napoleon_to_1230)])\n",
    "#for i in range(len(napoleon_to_1230)):\n",
    "#    pre = ImageDetector(napoleon_param, napoleon_to_1230[i])\n",
    " #   precent_sim[i] = pre\n",
    "    #print(i, 'is done')\n",
    "\n"
   ]
  },
  {
   "cell_type": "code",
   "execution_count": null,
   "metadata": {},
   "outputs": [],
   "source": []
  },
  {
   "cell_type": "code",
   "execution_count": 14,
   "metadata": {},
   "outputs": [
    {
     "ename": "NameError",
     "evalue": "name 'N_vals_1' is not defined",
     "output_type": "error",
     "traceback": [
      "\u001b[1;31m---------------------------------------------------------------------------\u001b[0m",
      "\u001b[1;31mNameError\u001b[0m                                 Traceback (most recent call last)",
      "\u001b[1;32m<ipython-input-14-66553d7e5dcf>\u001b[0m in \u001b[0;36m<module>\u001b[1;34m\u001b[0m\n\u001b[1;32m----> 1\u001b[1;33m \u001b[0mN_to_1230\u001b[0m \u001b[1;33m=\u001b[0m \u001b[0mnp\u001b[0m\u001b[1;33m.\u001b[0m\u001b[0mconcatenate\u001b[0m\u001b[1;33m(\u001b[0m\u001b[1;33m(\u001b[0m\u001b[0mN_vals_1\u001b[0m\u001b[1;33m,\u001b[0m \u001b[0mN_vals_3\u001b[0m\u001b[1;33m)\u001b[0m\u001b[1;33m)\u001b[0m\u001b[1;33m\u001b[0m\u001b[1;33m\u001b[0m\u001b[0m\n\u001b[0m\u001b[0;32m      2\u001b[0m \u001b[0mN_to_1230\u001b[0m \u001b[1;33m=\u001b[0m \u001b[0mnp\u001b[0m\u001b[1;33m.\u001b[0m\u001b[0mconcatenate\u001b[0m\u001b[1;33m(\u001b[0m\u001b[1;33m(\u001b[0m\u001b[0mN_to_1230\u001b[0m\u001b[1;33m,\u001b[0m \u001b[0mN_vals_4\u001b[0m\u001b[1;33m)\u001b[0m\u001b[1;33m)\u001b[0m\u001b[1;33m\u001b[0m\u001b[1;33m\u001b[0m\u001b[0m\n\u001b[0;32m      3\u001b[0m \u001b[0mplt\u001b[0m\u001b[1;33m.\u001b[0m\u001b[0mplot\u001b[0m\u001b[1;33m(\u001b[0m\u001b[0mN_to_1230\u001b[0m\u001b[1;33m,\u001b[0m \u001b[0mprecent_sim\u001b[0m\u001b[1;33m,\u001b[0m \u001b[1;34m'k.'\u001b[0m\u001b[1;33m)\u001b[0m\u001b[1;33m\u001b[0m\u001b[1;33m\u001b[0m\u001b[0m\n\u001b[0;32m      4\u001b[0m \u001b[1;31m#plt.plot(N_to_1230, precent_sim, 'r.')\u001b[0m\u001b[1;33m\u001b[0m\u001b[1;33m\u001b[0m\u001b[1;33m\u001b[0m\u001b[0m\n\u001b[0;32m      5\u001b[0m \u001b[1;33m\u001b[0m\u001b[0m\n",
      "\u001b[1;31mNameError\u001b[0m: name 'N_vals_1' is not defined"
     ]
    }
   ],
   "source": []
  },
  {
   "cell_type": "code",
   "execution_count": 54,
   "metadata": {},
   "outputs": [],
   "source": [
    "#plt.imshow(napoleon_to_1230[-4])"
   ]
  },
  {
   "cell_type": "code",
   "execution_count": 55,
   "metadata": {},
   "outputs": [],
   "source": [
    "#plt.imshow(napoleon_param)"
   ]
  },
  {
   "cell_type": "code",
   "execution_count": 56,
   "metadata": {},
   "outputs": [],
   "source": [
    "#ImageDetector(napoleon_param, napoleon_to_1230[-4])"
   ]
  },
  {
   "cell_type": "code",
   "execution_count": 98,
   "metadata": {},
   "outputs": [],
   "source": [
    "N_to_1600 = np.concatenate((np.arange(2,633,10), np.arange(640, 1601, 10)))\n",
    "\n",
    "N_to_1230 = np.concatenate((np.arange(2,633,10), np.arange(640, 1231, 10)))\n"
   ]
  },
  {
   "cell_type": "code",
   "execution_count": 58,
   "metadata": {},
   "outputs": [
    {
     "name": "stdout",
     "output_type": "stream",
     "text": [
      "import done\n",
      "not_grey done\n",
      "collapseRBG done\n",
      "black_coords found\n",
      "path found\n",
      "lineapprox done\n",
      "saveplot done\n",
      "import done\n",
      "imported collapse RBGA done\n",
      "NotGrey01 done\n"
     ]
    },
    {
     "data": {
      "image/png": "[encoded data removed]",
      "text/plain": [
       "<Figure size 432x288 with 1 Axes>"
      ]
     },
     "metadata": {
      "needs_background": "light"
     },
     "output_type": "display_data"
    }
   ],
   "source": [
    "girl_x, girl_y, girl_t, girl_param = SetUpPicture('girl.jpg', start=-1, thresh_ng=20, PlotParam=False, evals_line_approx=1000, Save=True, save_plot_as='girl_param', IImport=True, plot_import=True, debug= True)"
   ]
  },
  {
   "cell_type": "code",
   "execution_count": 99,
   "metadata": {},
   "outputs": [],
   "source": [
    "girl_big_array = []\n",
    "for n in N_to_1230:\n",
    "    name = 'girl' + str(n)\n",
    "    list_n = JustImport(save_plot_as=name, IImport=True,plot_import=False, debug=False)\n",
    "    girl_big_array.append(list_n)"
   ]
  },
  {
   "cell_type": "code",
   "execution_count": 100,
   "metadata": {},
   "outputs": [],
   "source": [
    "girl_precent_sim = np.zeros([len(N_to_1230)])\n",
    "for i in range(len(N_to_1230)):\n",
    "    pre = ImageDetector(girl_param, girl_big_array[i])\n",
    "    girl_precent_sim[i] = pre\n",
    "    #print(i, 'is done')"
   ]
  },
  {
   "cell_type": "code",
   "execution_count": 133,
   "metadata": {},
   "outputs": [
    {
     "data": {
      "text/plain": [
       "Text(0, 0.5, 'Percent Similarity')"
      ]
     },
     "execution_count": 133,
     "metadata": {},
     "output_type": "execute_result"
    },
    {
     "data": {
      "image/png": "[encoded data removed]",
      "text/plain": [
       "<Figure size 432x288 with 1 Axes>"
      ]
     },
     "metadata": {
      "needs_background": "light"
     },
     "output_type": "display_data"
    }
   ],
   "source": [
    "plt.plot(N_to_1230, girl_precent_sim, 'k-')\n",
    "plt.suptitle('Girl')\n",
    "plt.title('Percent Similarity vs Number of Terms- evals = 1000')\n",
    "plt.xlabel('Number of Terms')\n",
    "plt.ylabel('Percent Similarity')\n",
    "\n",
    "#plt.plot(N_to_1230, precent_sim, 'r.')\n",
    "\n",
    "\n"
   ]
  },
  {
   "cell_type": "code",
   "execution_count": 83,
   "metadata": {},
   "outputs": [
    {
     "name": "stdout",
     "output_type": "stream",
     "text": [
      "import done\n",
      "not_grey done\n",
      "collapseRBG done\n",
      "black_coords found\n",
      "path found\n",
      "lineapprox done\n",
      "saveplot done\n",
      "import done\n",
      "imported collapse RBGA done\n",
      "NotGrey01 done\n"
     ]
    },
    {
     "data": {
      "image/png": "[encoded data removed]",
      "text/plain": [
       "<Figure size 432x288 with 1 Axes>"
      ]
     },
     "metadata": {
      "needs_background": "light"
     },
     "output_type": "display_data"
    }
   ],
   "source": [
    "girl_x_500, girl_y_500, girl_t_500, girl_param_500 = SetUpPicture('girl.jpg', start=-1, thresh_ng=20, PlotParam=False, evals_line_approx=500, Save=True, save_plot_as='girl_param_500', IImport=True, plot_import=True, debug= True)"
   ]
  },
  {
   "cell_type": "code",
   "execution_count": null,
   "metadata": {},
   "outputs": [],
   "source": []
  },
  {
   "cell_type": "code",
   "execution_count": 63,
   "metadata": {},
   "outputs": [],
   "source": [
    "#N_1240_to_1600 = np.arange(1240, 1601,10)\n",
    "#for n in N_1240_to_1600:\n",
    "#    name = 'girl_500_' + str(n)\n",
    "#    list_n = PreformFourier(girl_x_500, girl_y_500, girl_t_500,n,Save=True, save_plot_as=name, IImport=True,plot_import=False, debug=False)\n",
    "#    girl_big_array_500.append(list_n)\n",
    "#    print(n, 'is done')"
   ]
  },
  {
   "cell_type": "code",
   "execution_count": 78,
   "metadata": {},
   "outputs": [],
   "source": [
    "girl_big_array_500 = []\n",
    "for n in N_to_1600:\n",
    "    name = 'girl_500_' + str(n)\n",
    "    list_n = JustImport(save_plot_as=name, IImport=True,plot_import=False, debug=False)\n",
    "    girl_big_array_500.append(list_n)\n",
    "    "
   ]
  },
  {
   "cell_type": "code",
   "execution_count": 84,
   "metadata": {},
   "outputs": [],
   "source": [
    "girl_500_precent_sim = np.zeros([len(N_to_1600)])\n",
    "for i in range(len(N_to_1600)):\n",
    "    pre = ImageDetector(girl_param_500, girl_big_array_500[i])\n",
    "    girl_500_precent_sim[i] = pre"
   ]
  },
  {
   "cell_type": "code",
   "execution_count": 132,
   "metadata": {},
   "outputs": [
    {
     "data": {
      "text/plain": [
       "Text(0, 0.5, 'Percent Similarity')"
      ]
     },
     "execution_count": 132,
     "metadata": {},
     "output_type": "execute_result"
    },
    {
     "data": {
      "image/png": "[encoded data removed]",
      "text/plain": [
       "<Figure size 432x288 with 1 Axes>"
      ]
     },
     "metadata": {
      "needs_background": "light"
     },
     "output_type": "display_data"
    }
   ],
   "source": [
    "plt.plot(N_to_1600, girl_500_precent_sim, 'k-')\n",
    "plt.suptitle('Girl')\n",
    "plt.title('Percent Similarity vs Number of Terms- evals = 500')\n",
    "plt.xlabel('Number of Terms')\n",
    "plt.ylabel('Percent Similarity')"
   ]
  },
  {
   "cell_type": "code",
   "execution_count": 139,
   "metadata": {},
   "outputs": [
    {
     "name": "stdout",
     "output_type": "stream",
     "text": [
      "import done\n",
      "not_grey done\n",
      "collapseRBG done\n",
      "black_coords found\n",
      "path found\n",
      "lineapprox done\n",
      "saveplot done\n",
      "import done\n",
      "imported collapse RBGA done\n",
      "NotGrey01 done\n"
     ]
    },
    {
     "data": {
      "image/png": "[encoded data removed]",
      "text/plain": [
       "<Figure size 432x288 with 1 Axes>"
      ]
     },
     "metadata": {
      "needs_background": "light"
     },
     "output_type": "display_data"
    }
   ],
   "source": [
    "girl_x_250, girl_y_250, girl_t_250, girl_250_param = SetUpPicture('girl.jpg', start=-1, thresh_ng=20, PlotParam=False, evals_line_approx=250, Save=True, save_plot_as='girl_250_param', IImport=True, plot_import=True, debug= True)"
   ]
  },
  {
   "cell_type": "code",
   "execution_count": 107,
   "metadata": {},
   "outputs": [],
   "source": [
    "girl_array_250 = []\n",
    "for n in N_to_1600:\n",
    "    name = 'girl_250_' + str(n)\n",
    "    list_n =PreformFourier(girl_x_250, girl_y_250, girl_t_250,n,Save=True, save_plot_as=name, IImport=True,plot_import=False, debug=False)\n",
    "    girl_array_250.append(list_n)"
   ]
  },
  {
   "cell_type": "code",
   "execution_count": 160,
   "metadata": {},
   "outputs": [],
   "source": [
    "N_1600_to_1900 = np.arange(1610, 1901, 10)"
   ]
  },
  {
   "cell_type": "code",
   "execution_count": 161,
   "metadata": {},
   "outputs": [],
   "source": [
    "girl_array_250_addon = []\n",
    "for n in N_1600_to_1900:\n",
    "    name = 'girl_250_' + str(n)\n",
    "    list_n =PreformFourier(girl_x_250, girl_y_250, girl_t_250,n,Save=True, save_plot_as=name, IImport=True,plot_import=False, debug=False)\n",
    "    girl_array_250_addon.append(list_n)"
   ]
  },
  {
   "cell_type": "code",
   "execution_count": 162,
   "metadata": {},
   "outputs": [],
   "source": [
    "girl_250_precent_sim_addon = np.zeros([len(N_1600_to_1900)])\n",
    "for i in range(len(N_1600_to_1900)):\n",
    "    pre = ImageDetector(girl_250_param, girl_array_250_addon[i])\n",
    "    girl_250_precent_sim_addon[i] = pre\n"
   ]
  },
  {
   "cell_type": "code",
   "execution_count": 140,
   "metadata": {},
   "outputs": [],
   "source": [
    "##Girl 250 finding percent similarity\n",
    "girl_250_precent_sim = np.zeros([len(N_to_1600)])\n",
    "for i in range(len(N_to_1600)):\n",
    "    pre = ImageDetector(girl_250_param, girl_array_250[i])\n",
    "    girl_250_precent_sim[i] = pre"
   ]
  },
  {
   "cell_type": "code",
   "execution_count": 165,
   "metadata": {},
   "outputs": [],
   "source": [
    "girl_250_precent_sim_1900 = np.concatenate((girl_250_precent_sim, girl_250_precent_sim_addon))\n",
    "N_vals_1900 = np.concatenate((N_to_1600, N_1600_to_1900))"
   ]
  },
  {
   "cell_type": "code",
   "execution_count": 166,
   "metadata": {},
   "outputs": [
    {
     "data": {
      "text/plain": [
       "Text(0, 0.5, 'Percent Similarity')"
      ]
     },
     "execution_count": 166,
     "metadata": {},
     "output_type": "execute_result"
    },
    {
     "data": {
      "image/png": "[encoded data removed]",
      "text/plain": [
       "<Figure size 432x288 with 1 Axes>"
      ]
     },
     "metadata": {
      "needs_background": "light"
     },
     "output_type": "display_data"
    }
   ],
   "source": [
    "plt.plot(N_vals_1900, girl_250_precent_sim_1900, 'k-')\n",
    "plt.suptitle('Girl')\n",
    "plt.title('Percent Similarity vs Number of Terms- evals = 250')\n",
    "plt.xlabel('Number of Terms')\n",
    "plt.ylabel('Percent Similarity')"
   ]
  },
  {
   "cell_type": "code",
   "execution_count": 146,
   "metadata": {},
   "outputs": [
    {
     "name": "stdout",
     "output_type": "stream",
     "text": [
      "import done\n",
      "not_grey done\n",
      "collapseRBG done\n",
      "black_coords found\n",
      "path found\n",
      "lineapprox done\n",
      "saveplot done\n",
      "import done\n",
      "imported collapse RBGA done\n",
      "NotGrey01 done\n"
     ]
    },
    {
     "data": {
      "image/png": "[encoded data removed]",
      "text/plain": [
       "<Figure size 432x288 with 1 Axes>"
      ]
     },
     "metadata": {
      "needs_background": "light"
     },
     "output_type": "display_data"
    }
   ],
   "source": [
    "girl_x_750, girl_y_750, girl_t_750, girl_750_param = SetUpPicture('girl.jpg', start=-1, thresh_ng=20, PlotParam=False, evals_line_approx=750, Save=True, save_plot_as='girl_750_param', IImport=True, plot_import=True, debug= True)"
   ]
  },
  {
   "cell_type": "code",
   "execution_count": 143,
   "metadata": {},
   "outputs": [],
   "source": [
    "girl_array_750 = []\n",
    "for n in N_to_1600:\n",
    "    name = 'girl_750_' + str(n)\n",
    "    list_n =PreformFourier(girl_x_750, girl_y_750, girl_t_750,n,Save=True, save_plot_as=name, IImport=True,plot_import=False, debug=False)\n",
    "    girl_array_750.append(list_n)"
   ]
  },
  {
   "cell_type": "code",
   "execution_count": 148,
   "metadata": {},
   "outputs": [],
   "source": [
    "girl_750_precent_sim = np.zeros([len(N_to_1600)])\n",
    "for i in range(len(N_to_1600)):\n",
    "    pre = ImageDetector(girl_750_param, girl_array_750[i])\n",
    "    girl_750_precent_sim[i] = pre"
   ]
  },
  {
   "cell_type": "code",
   "execution_count": 157,
   "metadata": {},
   "outputs": [
    {
     "data": {
      "text/plain": [
       "Text(0, 0.5, 'Percent Similarity')"
      ]
     },
     "execution_count": 157,
     "metadata": {},
     "output_type": "execute_result"
    },
    {
     "data": {
      "image/png": "[encoded data removed]",
      "text/plain": [
       "<Figure size 432x288 with 1 Axes>"
      ]
     },
     "metadata": {
      "needs_background": "light"
     },
     "output_type": "display_data"
    }
   ],
   "source": [
    "plt.plot(N_to_1600, girl_750_precent_sim, 'k-')\n",
    "plt.title('Percent Similarity vs Number of Terms- evals = 750')\n",
    "plt.suptitle('Girl')\n",
    "plt.xlabel('Number of Terms')\n",
    "plt.ylabel('Percent Similarity')"
   ]
  },
  {
   "cell_type": "code",
   "execution_count": 86,
   "metadata": {},
   "outputs": [],
   "source": [
    "N_to_1610 = np.arange(2, 1611, 10)"
   ]
  },
  {
   "cell_type": "code",
   "execution_count": 135,
   "metadata": {},
   "outputs": [
    {
     "name": "stdout",
     "output_type": "stream",
     "text": [
      "import done\n",
      "not_grey done\n",
      "collapseRBG done\n",
      "black_coords found\n",
      "path found\n",
      "lineapprox done\n",
      "saveplot done\n",
      "import done\n",
      "imported collapse RBGA done\n",
      "NotGrey01 done\n"
     ]
    },
    {
     "data": {
      "image/png": "[encoded data removed]",
      "text/plain": [
       "<Figure size 432x288 with 1 Axes>"
      ]
     },
     "metadata": {
      "needs_background": "light"
     },
     "output_type": "display_data"
    }
   ],
   "source": [
    "uc_x, uc_y, uc_t, uc_param = SetUpPicture('uchicago.jpg', start=-615, thresh_ng=200, PlotParam=False, evals_line_approx=1000, Save=True, save_plot_as='uc_param', IImport=True, plot_import=True, debug= True)"
   ]
  },
  {
   "cell_type": "code",
   "execution_count": null,
   "metadata": {},
   "outputs": [],
   "source": []
  },
  {
   "cell_type": "code",
   "execution_count": 110,
   "metadata": {},
   "outputs": [],
   "source": [
    "uc_array_1000 = []\n",
    "for n in N_to_1600:\n",
    "    name = 'uc_1000_' + str(n)\n",
    "    list_n =PreformFourier(uc_x, uc_y, uc_t,n,Save=True, save_plot_as=name, IImport=True,plot_import=False, debug=False)\n",
    "    uc_array_1000.append(list_n)"
   ]
  },
  {
   "cell_type": "code",
   "execution_count": null,
   "metadata": {},
   "outputs": [],
   "source": []
  },
  {
   "cell_type": "code",
   "execution_count": 136,
   "metadata": {},
   "outputs": [],
   "source": [
    "##UCHICAGO finding percent similarity\n",
    "uc_1000_precent_sim = np.zeros([len(N_to_1600)])\n",
    "for i in range(len(N_to_1600)):\n",
    "    pre = ImageDetector(uc_param, uc_array_1000[i])\n",
    "    uc_1000_precent_sim[i] = pre\n",
    "    "
   ]
  },
  {
   "cell_type": "code",
   "execution_count": 137,
   "metadata": {},
   "outputs": [
    {
     "data": {
      "text/plain": [
       "Text(0, 0.5, 'Percent Similarity')"
      ]
     },
     "execution_count": 137,
     "metadata": {},
     "output_type": "execute_result"
    },
    {
     "data": {
      "image/png": "[encoded data removed]",
      "text/plain": [
       "<Figure size 432x288 with 1 Axes>"
      ]
     },
     "metadata": {
      "needs_background": "light"
     },
     "output_type": "display_data"
    }
   ],
   "source": [
    "plt.plot(N_to_1600, uc_1000_precent_sim, 'k-')\n",
    "plt.title('Percent Similarity vs Number of Terms- evals = 1000')\n",
    "plt.suptitle('UChicago')\n",
    "plt.xlabel('Number of Terms')\n",
    "plt.ylabel('Percent Similarity')"
   ]
  },
  {
   "cell_type": "code",
   "execution_count": null,
   "metadata": {},
   "outputs": [],
   "source": [
    "girl_x_250, girl_y_250, girl_t_250, girl_250_param = SetUpPicture('girl.jpg', start=-1, thresh_ng=20, PlotParam=True, evals_line_approx=250, Save=True, save_plot_as='girl_param', IImport=True, plot_import=False, debug= True)"
   ]
  },
  {
   "cell_type": "code",
   "execution_count": null,
   "metadata": {},
   "outputs": [],
   "source": [
    "uc_x, uc_y, uc_t, uc_param = SetUpPicture('uchicago.jpg', start=-615, thresh_ng=200, PlotParam=False, evals_line_approx=1000, Save=True, save_plot_as='uc_param', IImport=True, plot_import=True, debug= True)"
   ]
  },
  {
   "cell_type": "code",
   "execution_count": 150,
   "metadata": {},
   "outputs": [
    {
     "data": {
      "text/plain": [
       "0.9758044936903663"
      ]
     },
     "execution_count": 150,
     "metadata": {},
     "output_type": "execute_result"
    }
   ],
   "source": [
    "ImageDetector(girl_param, girl_250_param)"
   ]
  },
  {
   "cell_type": "code",
   "execution_count": 152,
   "metadata": {},
   "outputs": [
    {
     "data": {
      "text/plain": [
       "0.9821188057863958"
      ]
     },
     "execution_count": 152,
     "metadata": {},
     "output_type": "execute_result"
    }
   ],
   "source": [
    "ImageDetector(girl_param, girl_param_500)"
   ]
  },
  {
   "cell_type": "code",
   "execution_count": 154,
   "metadata": {},
   "outputs": [
    {
     "data": {
      "text/plain": [
       "0.9861254539858418"
      ]
     },
     "execution_count": 154,
     "metadata": {},
     "output_type": "execute_result"
    }
   ],
   "source": [
    "ImageDetector(girl_param, girl_750_param)"
   ]
  },
  {
   "cell_type": "code",
   "execution_count": 155,
   "metadata": {},
   "outputs": [
    {
     "data": {
      "text/plain": [
       "1.0"
      ]
     },
     "execution_count": 155,
     "metadata": {},
     "output_type": "execute_result"
    }
   ],
   "source": [
    "ImageDetector(girl_param, girl_param)"
   ]
  },
  {
   "cell_type": "code",
   "execution_count": null,
   "metadata": {},
   "outputs": [],
   "source": []
  }
 ],
 "metadata": {
  "kernelspec": {
   "display_name": "Python 3",
   "language": "python",
   "name": "python3"
  },
  "language_info": {
   "codemirror_mode": {
    "name": "ipython",
    "version": 3
   },
   "file_extension": ".py",
   "mimetype": "text/x-python",
   "name": "python",
   "nbconvert_exporter": "python",
   "pygments_lexer": "ipython3",
   "version": "3.7.3"
  }
 },
 "nbformat": 4,
 "nbformat_minor": 2
}
