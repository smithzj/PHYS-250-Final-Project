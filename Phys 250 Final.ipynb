{
 "cells": [
  {
   "cell_type": "code",
   "execution_count": 266,
   "metadata": {},
   "outputs": [],
   "source": [
    "%matplotlib inline\n",
    "import numpy as np\n",
    "import scipy.signal as signal    # Notice this one is new!\n",
    "import matplotlib.pyplot as plt\n",
    "from matplotlib import cm as colormap\n",
    "from mpl_toolkits.mplot3d import Axes3D\n",
    "import math\n",
    "import cmath\n",
    "from scipy import interpolate \n",
    "from scipy.spatial import distance \n",
    "from copy import deepcopy"
   ]
  },
  {
   "cell_type": "code",
   "execution_count": 267,
   "metadata": {},
   "outputs": [],
   "source": [
    "\n",
    "def Import(photo):\n",
    "    img = plt.imread(photo)\n",
    "    #plt.figure()\n",
    "    \n",
    "    #plt.imshow(img)\n",
    "    return img\n",
    "\n",
    "#turn image into array \n",
    "def NotGray(thresh, image):\n",
    "    imarray = np.array(image)\n",
    "    if len(imarray[0][0]) == 4:\n",
    "        return \"you put in a RBGA image\"\n",
    "    #makeit truely black and white:\n",
    "    else:\n",
    "        for i in range(len(imarray)):\n",
    "            for j in range(len(imarray[0])):\n",
    "                #print(imarray[0][0])\n",
    "                for k in range(3):\n",
    "                    #thresh = 200             #by raising this will pick up more grey values included\n",
    "                                            #will be darker/more continuous but also more noisy- this might becom param of eqn.\n",
    "                    if imarray[i][j][k] < thresh:\n",
    "                        imarray[i][j][k]=0     #0 is what 'black' is for python color codes\n",
    "                    else: imarray[i][j][k]=255 #255 is 'white' \n",
    "    return imarray\n",
    "#this will show the pure black and white image\n",
    "                            #These following lines are just to check that now each triplet have the same values(it comes from the RGB plt.imread)\n",
    "                            #for i in range(len(imarray)):            \n",
    "                            #    for j in range(len(imarray[0])):\n",
    "                            #        for k in range(len(imarray[0][0])):\n",
    "                            #             if imarray[i][j][k] != imarray[i][j][0]:\n",
    "                            #                print(imarray[i][j])\n",
    "def CollapseRBG(array):  #array is NxMx3\n",
    "    bwimarray = np.zeros([len(array), len(array[0])])  #Here I am turning my RBG array into a BW array (Collapsing third dim)\n",
    "    for i in range(len(array)):\n",
    "        for j in range(len(array[0])):\n",
    "            bwimarray[i][j] = array[i][j][0]    #Setting each element the array to the last elemet of the triplet since they are all the same.      \n",
    "    return bwimarray                                        #This might be kinda messed up if the photo you upload isnt black and white. But it shouldent be too messed up\n",
    "\n",
    "def FinalSize(array):\n",
    "    fin_x_dim = len(array)\n",
    "    fin_y_dim = len(array[0])\n",
    "    return fin_x_dim, fin_y_dim\n",
    "    \n",
    "def black_coords(array):\n",
    "    black = np.where(array==0)\n",
    "    b = np.zeros([len(black[0]),2])\n",
    "    #print(len(black[0]))\n",
    "    for i in range(len(black[0])):\n",
    "        coord = np.array([black[0][i], black[1][i]])\n",
    "        b[i] = coord\n",
    "    return b\n",
    "\n",
    "def PairCoord_Index(start, coordslist): \n",
    "    \"\"\"\n",
    "    start needs to be an np.array([x,y]) where [x,y] in coordlist\n",
    "    and x, y are floats\n",
    "    this is going to be finicky \n",
    "    \"\"\"\n",
    "    pair_dict = dict()\n",
    "    start_str = str(start)\n",
    "    for i in enumerate(coordslist):\n",
    "        coord_str = str(i[1])\n",
    "        #print(coord_str)\n",
    "        pair_dict[coord_str] = i[0]\n",
    "    return pair_dict[start_str]\n",
    "\n",
    "\n",
    "###distance between each black coord with another\n",
    "def Distance(coord_list):\n",
    "    distance_matrix = distance.cdist(coord_list, coord_list)\n",
    "    return distance_matrix\n",
    "\n",
    "\n",
    "#having checked this with rainbows, it honestly workes as expected. a little slow for a 440 KB photo, rel fast for 140 KB\n",
    "#for rainbow picture with lower thresh, will be difference in bwimarray with what is plotted(choosing R, B or G)\n",
    "#I think just always put a reg picture in that happens to only be greyscale. \n",
    "\n"
   ]
  },
  {
   "cell_type": "code",
   "execution_count": 268,
   "metadata": {},
   "outputs": [],
   "source": [
    "def BestPath(start, array):\n",
    "    \"\"\"\n",
    "    Start in form np.array([x., y.])\n",
    "    \"\"\"\n",
    "    coordinates = black_coords(array)\n",
    "    #print(len(coordinates))\n",
    "    matrix = Distance(coordinates)\n",
    "    sp = PairCoord_Index(start, coordinates)\n",
    "    path_coord_x = [coordinates[sp][0]]\n",
    "    path_coord_y = [coordinates[sp][1]]\n",
    "    #print(sp)\n",
    "    path_index = [sp]\n",
    "    #print('len(coordinates)')\n",
    "    #print(len(coordinates))\n",
    "    for i in range(len(coordinates)):\n",
    "        row = matrix[sp,:]\n",
    "        for j in path_index:\n",
    "            row[j] = np.infty\n",
    "        closest = np.argmin(row)\n",
    "        #print('for i=', i, 'closest =', closest)\n",
    "        path_coord_x.append(coordinates[closest][0])\n",
    "        path_coord_y.append(coordinates[closest][1])\n",
    "        path_index.append(closest)\n",
    "        sp = closest\n",
    "    path_coord_x.append(path_coord_x[0])\n",
    "    path_coord_y.append(path_coord_y[0])\n",
    "    path_index.append(path_index[0])\n",
    "    return path_coord_x, path_coord_y\n",
    "    \n"
   ]
  },
  {
   "cell_type": "code",
   "execution_count": 269,
   "metadata": {},
   "outputs": [],
   "source": [
    "from scipy.interpolate import UnivariateSpline\n",
    "##Going to make line approximation; using UnivariateSpline \n",
    "##Splines are linear approximations to a line. \n",
    "\n",
    "def lineapprox(path_x, path_y, plot=True, num_evals=1000):\n",
    "    arange = np.arange(0, len(path_x),1)\n",
    "    path_x_array = np.array(path_x)\n",
    "    path_y_array = np.array(path_y)\n",
    "    flip_y = -1*path_y_array\n",
    "    x_approx = UnivariateSpline(arange, path_x_array)\n",
    "    y_approx = UnivariateSpline(arange, path_y_array)\n",
    "    #print(type(x_approx))\n",
    "    # print(x_approx.size)\n",
    "    x_approx_array = [0] * num_evals\n",
    "    y_approx_array = [0] * num_evals\n",
    "    index = 0\n",
    "    for v in (np.linspace(0, len(path_x)-1, num_evals)):\n",
    "        #print('type in here: ', type(x_approx(v)))\n",
    "        #print('this item: ', x_approx(v))\n",
    "        x_approx_array[index] = float(x_approx(v))\n",
    "        y_approx_array[index] = float(y_approx(v))\n",
    "        index += 1\n",
    "    #print(x_approx_array)\n",
    "    #print(y_approx_array)\n",
    "    t = np.linspace(0, len(path_x), num_evals)\n",
    "    endpoint_x = np.mean([x_approx_array[0], x_approx_array[-1]])\n",
    "    x_approx_array[0] = endpoint_x\n",
    "    x_approx_array[-1] = endpoint_x\n",
    "    x_approx_array = x_approx_array - x_approx_array[0]                      \n",
    "          \n",
    "    endpoint_y = np.mean([y_approx_array[0], y_approx_array[-1]])\n",
    "    y_approx_array[0] = endpoint_y\n",
    "    y_approx_array[-1] = endpoint_y\n",
    "    y_approx_array = y_approx_array - y_approx_array[0]\n",
    "    \n",
    "    if plot == True:\n",
    "        #plt.plot(x,y, 'k')\n",
    "        #plt.plot(*zip(*[(x_approx(v), y_approx(v)) for v in np.linspace(0, len(path_x)-1, 1000)]))\n",
    "        plt.plot(x_approx_array, y_approx_array)\n",
    "        #plt.gca().invert_xaxis()\n",
    "        #plt.gca().invert_yaxis()\n",
    "        #plt.plot(splines)\n",
    "        #plt.plot(arange, x_approx)\n",
    "        #pltl.plot(arange, y_approx)\n",
    "    return x_approx_array, y_approx_array,t\n"
   ]
  },
  {
   "cell_type": "code",
   "execution_count": 270,
   "metadata": {},
   "outputs": [],
   "source": [
    "def cn(f, t, n):\n",
    "    ##t needs to be from 0 to T interval. \n",
    "    T = t[-1]\n",
    "    delta_t = T/len(t)\n",
    "    \n",
    "    integrand = (1/T)*f*np.exp(-1j*2*np.pi*n*t/T)\n",
    "    integral =(sum(integrand))*delta_t\n",
    "    \n",
    "    return integral\n",
    "#outputs COMPLEX NUMBER\n",
    "\n"
   ]
  },
  {
   "cell_type": "code",
   "execution_count": 271,
   "metadata": {},
   "outputs": [],
   "source": [
    "def f_one_x_one_n(f, t, n, cn, x):\n",
    "    T = t[-1]\n",
    "    term = cn*np.exp(1j*2*np.pi*n*x/T)\n",
    "    return term\n",
    "\n",
    "\n",
    "def fft_at_t(f,t,x, N, c): #Please o Please let N be even\n",
    "    f_of_t = 0\n",
    "    #print('x=', x)\n",
    "    #c is an array \n",
    "    count_from_0 = 0\n",
    "    for i in range(-N//2,N//2+1):\n",
    "        c_i =c[count_from_0]\n",
    "        \n",
    "        additional_term =f_one_x_one_n(f,t,i,c_i,x)\n",
    "        f_of_t += additional_term\n",
    "        #print(i,'th term of f=', np.round(additional_term, decimals= 3))\n",
    "        count_from_0 += 1\n",
    "    return f_of_t  \n"
   ]
  },
  {
   "cell_type": "code",
   "execution_count": 272,
   "metadata": {
    "scrolled": true
   },
   "outputs": [],
   "source": [
    "def F_all_t(f, t, N):\n",
    "    FT_of_f = np.zeros(len(t))\n",
    "    c = np.zeros(N+1, dtype = np.complex_)\n",
    "    count = -N//2\n",
    "    for j in range(N+1):        \n",
    "        c[j] = cn(f,t,count)  ##c will be the set of coefficients evaluated at -N//2 to N//2+1\n",
    "        count += 1            ### we will only be calculating c once.\n",
    "        \n",
    "    for i in range(len(t)):\n",
    "        FT_of_f[i] = np.round(fft_at_t(f, t, t[i], N, c).real)    #This is takes imout of c as an array\n",
    "    return FT_of_f\n",
    "\n",
    "def PutInPlace(x_vals, y_vals, bw_array):  \n",
    "    black_coords_real = np.where(bw_array == 0)\n",
    "    black_real_x = black_coords_real[0]\n",
    "    black_real_y = black_coords_real[1]\n",
    "    x_real_min = min(black_real_x)\n",
    "    y_real_min = min(black_real_y)\n",
    "    \n",
    "\n",
    "    x_fft_min = min(x_vals)\n",
    "    y_fft_min = min(y_vals)\n",
    "    if x_fft_min != x_real_min:\n",
    "        x_vals = x_vals + (x_real_min - x_fft_min)\n",
    "    return x_vals, y_vals\n",
    "\n",
    "#fft_test = F_all_t(f_test, t_test, 2)\n",
    "#plt.plot(t_test, fft_test, 'k')\n",
    "\n",
    "\n"
   ]
  },
  {
   "cell_type": "code",
   "execution_count": 322,
   "metadata": {},
   "outputs": [],
   "source": [
    "from PIL import Image\n",
    "\n",
    "def SavePlot(x_vals, y_vals, outputname):\n",
    "    plt.figure(figsize=(15,15))\n",
    "    plt.plot(x_vals, y_vals, 'k-', linewidth =5)\n",
    "    plt.axis('off')\n",
    "    \n",
    "    #axes.get_xaxis().set_visible(False)\n",
    "    #axes.get_yaxis().set_visible(False)\n",
    "    plt.savefig(outputname, dpi=95,pad_inches=0)\n",
    "    plt.close()\n",
    "    \n",
    "def NotGrey01(array):  #array should be NxM converted from png\n",
    "    for i in range(len(array)):\n",
    "        for j in range(len(array[0])):\n",
    "            if 0 <= array[i][j]<=.25:\n",
    "                array[i][j] = 0\n",
    "            else:\n",
    "                array[i][j] =255\n",
    "    return array   \n",
    "    \n"
   ]
  },
  {
   "cell_type": "code",
   "execution_count": 323,
   "metadata": {},
   "outputs": [],
   "source": [
    "def SetUpPicture(file_name, thresh_ng=200, start=0, PlotParam=False, evals_line_approx=1000, Save=False, save_plot_as='generic_name', IImport=False, plot_import=False, debug= False ):\n",
    "    \n",
    "    image = Import(file_name)\n",
    "    if debug== True: \n",
    "        print('import done')\n",
    "    image_ng = NotGray(thresh_ng, image)  #dtype array\n",
    "    if debug== True: \n",
    "        print('not_grey done')\n",
    "    image_bw = CollapseRBG(image_ng)\n",
    "    if debug== True: \n",
    "        print('collapseRBG done')\n",
    "    blk_coords = black_coords(image_bw)\n",
    "    if debug== True: \n",
    "        print('black_coords found')\n",
    "    path_through_black = BestPath(blk_coords[start], image_bw)\n",
    "    if debug== True: \n",
    "        print('path found')\n",
    "    splines = lineapprox(path_through_black[0], path_through_black[1], plot=PlotParam, num_evals= evals_line_approx)\n",
    "    if debug== True: \n",
    "        print('lineapprox done')\n",
    "    xt = splines[0]\n",
    "    yt = splines[1]\n",
    "    t = splines[2]\n",
    "    if Save == True:\n",
    "        SavePlot(xt, yt, save_plot_as)\n",
    "        if debug== True: \n",
    "            print('saveplot done')\n",
    "        if IImport == True:\n",
    "            imported_img = Import(save_plot_as+'.png')\n",
    "            if debug == True: \n",
    "                print('import done')\n",
    "            imported_array = np.array(imported_img)\n",
    "            imported_bw = CollapseRBG(imported_array)\n",
    "            if debug== True: \n",
    "                print('imported collapse RBGA done')\n",
    "            imported_255 = NotGrey01(imported_bw)\n",
    "            if debug== True: \n",
    "                print('NotGrey01 done')\n",
    "            if plot_import == True:\n",
    "                plt.imshow(imported_255)\n",
    "            return xt, yt, t, imported_255\n",
    "    else: return xt, yt, t, 'no import here'"
   ]
  },
  {
   "cell_type": "code",
   "execution_count": 245,
   "metadata": {},
   "outputs": [
    {
     "name": "stdout",
     "output_type": "stream",
     "text": [
      "[[255. 255. 255. ... 255. 255. 255.]\n",
      " [255. 255. 255. ... 255. 255. 255.]\n",
      " [255. 255. 255. ... 255. 255. 255.]\n",
      " ...\n",
      " [255. 255. 255. ... 255. 255. 255.]\n",
      " [255. 255. 255. ... 255. 255. 255.]\n",
      " [255. 255. 255. ... 255. 255. 255.]]\n"
     ]
    },
    {
     "data": {
      "image/png": "[encoded data removed]",
      "text/plain": [
       "<Figure size 432x288 with 1 Axes>"
      ]
     },
     "metadata": {
      "needs_background": "light"
     },
     "output_type": "display_data"
    }
   ],
   "source": [
    "greyish_xt, greyish_yt, greyish_t, greyish_bw, greyish_param = SetUpPicture('greyish.jpg',start=-1,PlotParam=False, Save=True, save_plot_as='greyish_param', IImport=True, plot_import=True,debug=False)\n",
    "print(string)"
   ]
  },
  {
   "cell_type": "code",
   "execution_count": 246,
   "metadata": {},
   "outputs": [],
   "source": [
    "def PreformFourier(xt, yt, t, N, Plot_fft=False, Save=False, save_plot_as='generic_approx', IImport=False,plot_import=False, debug=False):\n",
    "    fft_x = F_all_t(xt, t, N)\n",
    "    fft_y = F_all_t(yt, t, N)\n",
    "    if debug== True: \n",
    "        print(\"fft's done\")\n",
    "    if Plot_fft == True:\n",
    "        plt.plot(fft_x,fft_y)\n",
    "    if Save == True:\n",
    "        SavePlot(fft_x, fft_y, save_plot_as)\n",
    "        if debug== True: \n",
    "            print('SavePlot done')\n",
    "        if IImport == True:\n",
    "            imported_img = Import(save_plot_as+'.png')\n",
    "            if debug== True: \n",
    "                print('import done')\n",
    "            imported_array = np.array(imported_img)\n",
    "            imported_bw = CollapseRBG(imported_array)\n",
    "            if debug== True: \n",
    "                print('collapse RBGA done')\n",
    "            imported_255 = NotGrey01(imported_bw)\n",
    "            if debug== True: \n",
    "                print('NotGrey01 done')\n",
    "            if plot_import == True:\n",
    "                plt.imshow(imported_255)\n",
    "            return imported_255\n",
    "    else: return 'no imported image'\n"
   ]
  },
  {
   "cell_type": "code",
   "execution_count": 247,
   "metadata": {},
   "outputs": [],
   "source": [
    "def ImageDetector(TrueImage, GeneratedImage):\n",
    "    \"\"\"\n",
    "    True image and Generated Image should be arrays of the same dimension\n",
    "    \"\"\"\n",
    "    TI = TrueImage\n",
    "    GI = GeneratedImage\n",
    "    num_same= 0\n",
    "    for i in range(len(TI)):\n",
    "        for j in range(len(TI[0])):\n",
    "            if TI[i][j] == GI[i][j]:\n",
    "                num_same += 1\n",
    "    num_pix= len(TI)*len(TI[0])\n",
    "    return num_same/num_pix"
   ]
  },
  {
   "cell_type": "code",
   "execution_count": 258,
   "metadata": {},
   "outputs": [],
   "source": [
    "N_vals = np.arange(2, 623, 40)\n",
    "\n",
    "greyish_big_array = []\n",
    "for n in N_vals:\n",
    "    name = 'greyish' + str(n)\n",
    "    list_n = PreformFourier(greyish_xt, greyish_yt, greyish_t,n,Save=True, save_plot_as=name, IImport=True,plot_import=False, debug=False)\n",
    "    greyish_big_array.append(list_n)\n",
    "    #print(n, 'is done')"
   ]
  },
  {
   "cell_type": "code",
   "execution_count": 259,
   "metadata": {},
   "outputs": [
    {
     "name": "stdout",
     "output_type": "stream",
     "text": [
      "22\n",
      "0 is done\n",
      "1 is done\n",
      "2 is done\n",
      "3 is done\n",
      "4 is done\n",
      "5 is done\n",
      "6 is done\n",
      "7 is done\n",
      "8 is done\n",
      "9 is done\n",
      "10 is done\n",
      "11 is done\n",
      "12 is done\n",
      "13 is done\n",
      "14 is done\n",
      "15 is done\n",
      "16 is done\n",
      "17 is done\n",
      "18 is done\n",
      "19 is done\n",
      "20 is done\n",
      "21 is done\n"
     ]
    }
   ],
   "source": [
    "precent_diff = np.zeros([len(greyish_big_array)])\n",
    "print(len(greyish_big_array))\n",
    "for i in range(len(greyish_big_array)):\n",
    "    pre = ImageDetector(greyish_param, greyish_big_array[i])\n",
    "    precent_diff[i] = pre\n",
    "    print(i, 'is done')\n"
   ]
  },
  {
   "cell_type": "code",
   "execution_count": 261,
   "metadata": {},
   "outputs": [
    {
     "data": {
      "text/plain": [
       "[<matplotlib.lines.Line2D at 0x1e85c9ad0b8>]"
      ]
     },
     "execution_count": 261,
     "metadata": {},
     "output_type": "execute_result"
    },
    {
     "data": {
      "image/png": "[encoded data removed]",
      "text/plain": [
       "<Figure size 432x288 with 1 Axes>"
      ]
     },
     "metadata": {
      "needs_background": "light"
     },
     "output_type": "display_data"
    }
   ],
   "source": [
    "plt.plot(N_vals, precent_diff, 'k-')"
   ]
  },
  {
   "cell_type": "code",
   "execution_count": 294,
   "metadata": {},
   "outputs": [
    {
     "data": {
      "text/plain": [
       "<matplotlib.image.AxesImage at 0x1e85c8710b8>"
      ]
     },
     "execution_count": 294,
     "metadata": {},
     "output_type": "execute_result"
    },
    {
     "data": {
      "image/png": "[encoded data removed]",
      "text/plain": [
       "<Figure size 432x288 with 1 Axes>"
      ]
     },
     "metadata": {
      "needs_background": "light"
     },
     "output_type": "display_data"
    }
   ],
   "source": [
    "pheonix= Import('pheonix.jpg')\n",
    "#plt.imshow(pheonix)\n",
    "pheonix_array = np.array(pheonix)\n",
    "pheonix_ng = NotGray(120, pheonix)\n",
    "plt.imshow(pheonix_ng)\n"
   ]
  },
  {
   "cell_type": "code",
   "execution_count": 295,
   "metadata": {},
   "outputs": [
    {
     "data": {
      "text/plain": [
       "<matplotlib.image.AxesImage at 0x1e854c4b160>"
      ]
     },
     "execution_count": 295,
     "metadata": {},
     "output_type": "execute_result"
    },
    {
     "data": {
      "image/png": "[encoded data removed]",
      "text/plain": [
       "<Figure size 432x288 with 1 Axes>"
      ]
     },
     "metadata": {
      "needs_background": "light"
     },
     "output_type": "display_data"
    }
   ],
   "source": [
    "pheonix_bw = CollapseRBG(pheonix_ng)\n",
    "black_coords_pheonix = black_coords(pheonix_bw)\n",
    "plt.imshow(pheonix_bw)\n",
    "#calvin_path =BestPath(black_coords_calvin[0], calvin_bw)"
   ]
  },
  {
   "cell_type": "code",
   "execution_count": 302,
   "metadata": {},
   "outputs": [
    {
     "name": "stdout",
     "output_type": "stream",
     "text": [
      "import done\n",
      "not_grey done\n",
      "collapseRBG done\n",
      "black_coords found\n",
      "path found\n",
      "lineapprox done\n"
     ]
    },
    {
     "data": {
      "image/png": "[encoded data removed]",
      "text/plain": [
       "<Figure size 432x288 with 1 Axes>"
      ]
     },
     "metadata": {
      "needs_background": "light"
     },
     "output_type": "display_data"
    }
   ],
   "source": [
    "pheonix_x, pheonix_y, pheonix_t, pheonix_param = SetUpPicture('pheonix.jpg', start=300, thresh_ng=120, PlotParam=True, evals_line_approx=1000, Save=False, save_plot_as='greyish_param', IImport=False, plot_import=False, debug= True)"
   ]
  },
  {
   "cell_type": "code",
   "execution_count": null,
   "metadata": {},
   "outputs": [],
   "source": []
  },
  {
   "cell_type": "code",
   "execution_count": 334,
   "metadata": {},
   "outputs": [
    {
     "name": "stdout",
     "output_type": "stream",
     "text": [
      "import done\n",
      "not_grey done\n",
      "collapseRBG done\n",
      "black_coords found\n",
      "path found\n",
      "lineapprox done\n",
      "saveplot done\n",
      "import done\n",
      "imported collapse RBGA done\n",
      "NotGrey01 done\n"
     ]
    },
    {
     "data": {
      "image/png": "[encoded data removed]",
      "text/plain": [
       "<Figure size 432x288 with 1 Axes>"
      ]
     },
     "metadata": {
      "needs_background": "light"
     },
     "output_type": "display_data"
    }
   ],
   "source": [
    "napoleon_x, napoleon_y, napoleon_t, napoleon_param = SetUpPicture('napoleon_rbg.jpg', start=-1, PlotParam=True, evals_line_approx=1000, Save=True, save_plot_as='napoleon_param', IImport=True, plot_import=True, debug= True)"
   ]
  },
  {
   "cell_type": "code",
   "execution_count": 318,
   "metadata": {},
   "outputs": [],
   "source": [
    "\n"
   ]
  },
  {
   "cell_type": "code",
   "execution_count": 347,
   "metadata": {},
   "outputs": [
    {
     "name": "stdout",
     "output_type": "stream",
     "text": [
      "2 is done\n",
      "12 is done\n",
      "22 is done\n",
      "32 is done\n",
      "42 is done\n",
      "52 is done\n",
      "62 is done\n",
      "72 is done\n",
      "82 is done\n",
      "92 is done\n",
      "102 is done\n",
      "112 is done\n",
      "122 is done\n",
      "132 is done\n",
      "142 is done\n",
      "152 is done\n",
      "162 is done\n",
      "172 is done\n",
      "182 is done\n",
      "192 is done\n",
      "202 is done\n",
      "212 is done\n",
      "222 is done\n",
      "232 is done\n",
      "242 is done\n",
      "252 is done\n",
      "262 is done\n",
      "272 is done\n",
      "282 is done\n",
      "292 is done\n",
      "302 is done\n",
      "312 is done\n",
      "322 is done\n",
      "332 is done\n",
      "342 is done\n",
      "352 is done\n",
      "362 is done\n",
      "372 is done\n",
      "382 is done\n",
      "392 is done\n",
      "402 is done\n",
      "412 is done\n",
      "422 is done\n",
      "432 is done\n",
      "442 is done\n",
      "452 is done\n",
      "462 is done\n",
      "472 is done\n",
      "482 is done\n",
      "492 is done\n",
      "502 is done\n",
      "512 is done\n",
      "522 is done\n",
      "532 is done\n",
      "542 is done\n",
      "552 is done\n",
      "562 is done\n",
      "572 is done\n",
      "582 is done\n",
      "592 is done\n",
      "602 is done\n",
      "612 is done\n",
      "622 is done\n",
      "632 is done\n",
      "[array([[255., 255., 255., ..., 255., 255., 255.],\n",
      "       [255., 255., 255., ..., 255., 255., 255.],\n",
      "       [255., 255., 255., ..., 255., 255., 255.],\n",
      "       ...,\n",
      "       [255., 255., 255., ..., 255., 255., 255.],\n",
      "       [255., 255., 255., ..., 255., 255., 255.],\n",
      "       [255., 255., 255., ..., 255., 255., 255.]]), array([[255., 255., 255., ..., 255., 255., 255.],\n",
      "       [255., 255., 255., ..., 255., 255., 255.],\n",
      "       [255., 255., 255., ..., 255., 255., 255.],\n",
      "       ...,\n",
      "       [255., 255., 255., ..., 255., 255., 255.],\n",
      "       [255., 255., 255., ..., 255., 255., 255.],\n",
      "       [255., 255., 255., ..., 255., 255., 255.]]), array([[255., 255., 255., ..., 255., 255., 255.],\n",
      "       [255., 255., 255., ..., 255., 255., 255.],\n",
      "       [255., 255., 255., ..., 255., 255., 255.],\n",
      "       ...,\n",
      "       [255., 255., 255., ..., 255., 255., 255.],\n",
      "       [255., 255., 255., ..., 255., 255., 255.],\n",
      "       [255., 255., 255., ..., 255., 255., 255.]]), array([[255., 255., 255., ..., 255., 255., 255.],\n",
      "       [255., 255., 255., ..., 255., 255., 255.],\n",
      "       [255., 255., 255., ..., 255., 255., 255.],\n",
      "       ...,\n",
      "       [255., 255., 255., ..., 255., 255., 255.],\n",
      "       [255., 255., 255., ..., 255., 255., 255.],\n",
      "       [255., 255., 255., ..., 255., 255., 255.]]), array([[255., 255., 255., ..., 255., 255., 255.],\n",
      "       [255., 255., 255., ..., 255., 255., 255.],\n",
      "       [255., 255., 255., ..., 255., 255., 255.],\n",
      "       ...,\n",
      "       [255., 255., 255., ..., 255., 255., 255.],\n",
      "       [255., 255., 255., ..., 255., 255., 255.],\n",
      "       [255., 255., 255., ..., 255., 255., 255.]]), array([[255., 255., 255., ..., 255., 255., 255.],\n",
      "       [255., 255., 255., ..., 255., 255., 255.],\n",
      "       [255., 255., 255., ..., 255., 255., 255.],\n",
      "       ...,\n",
      "       [255., 255., 255., ..., 255., 255., 255.],\n",
      "       [255., 255., 255., ..., 255., 255., 255.],\n",
      "       [255., 255., 255., ..., 255., 255., 255.]]), array([[255., 255., 255., ..., 255., 255., 255.],\n",
      "       [255., 255., 255., ..., 255., 255., 255.],\n",
      "       [255., 255., 255., ..., 255., 255., 255.],\n",
      "       ...,\n",
      "       [255., 255., 255., ..., 255., 255., 255.],\n",
      "       [255., 255., 255., ..., 255., 255., 255.],\n",
      "       [255., 255., 255., ..., 255., 255., 255.]]), array([[255., 255., 255., ..., 255., 255., 255.],\n",
      "       [255., 255., 255., ..., 255., 255., 255.],\n",
      "       [255., 255., 255., ..., 255., 255., 255.],\n",
      "       ...,\n",
      "       [255., 255., 255., ..., 255., 255., 255.],\n",
      "       [255., 255., 255., ..., 255., 255., 255.],\n",
      "       [255., 255., 255., ..., 255., 255., 255.]]), array([[255., 255., 255., ..., 255., 255., 255.],\n",
      "       [255., 255., 255., ..., 255., 255., 255.],\n",
      "       [255., 255., 255., ..., 255., 255., 255.],\n",
      "       ...,\n",
      "       [255., 255., 255., ..., 255., 255., 255.],\n",
      "       [255., 255., 255., ..., 255., 255., 255.],\n",
      "       [255., 255., 255., ..., 255., 255., 255.]]), array([[255., 255., 255., ..., 255., 255., 255.],\n",
      "       [255., 255., 255., ..., 255., 255., 255.],\n",
      "       [255., 255., 255., ..., 255., 255., 255.],\n",
      "       ...,\n",
      "       [255., 255., 255., ..., 255., 255., 255.],\n",
      "       [255., 255., 255., ..., 255., 255., 255.],\n",
      "       [255., 255., 255., ..., 255., 255., 255.]]), array([[255., 255., 255., ..., 255., 255., 255.],\n",
      "       [255., 255., 255., ..., 255., 255., 255.],\n",
      "       [255., 255., 255., ..., 255., 255., 255.],\n",
      "       ...,\n",
      "       [255., 255., 255., ..., 255., 255., 255.],\n",
      "       [255., 255., 255., ..., 255., 255., 255.],\n",
      "       [255., 255., 255., ..., 255., 255., 255.]]), array([[255., 255., 255., ..., 255., 255., 255.],\n",
      "       [255., 255., 255., ..., 255., 255., 255.],\n",
      "       [255., 255., 255., ..., 255., 255., 255.],\n",
      "       ...,\n",
      "       [255., 255., 255., ..., 255., 255., 255.],\n",
      "       [255., 255., 255., ..., 255., 255., 255.],\n",
      "       [255., 255., 255., ..., 255., 255., 255.]]), array([[255., 255., 255., ..., 255., 255., 255.],\n",
      "       [255., 255., 255., ..., 255., 255., 255.],\n",
      "       [255., 255., 255., ..., 255., 255., 255.],\n",
      "       ...,\n",
      "       [255., 255., 255., ..., 255., 255., 255.],\n",
      "       [255., 255., 255., ..., 255., 255., 255.],\n",
      "       [255., 255., 255., ..., 255., 255., 255.]]), array([[255., 255., 255., ..., 255., 255., 255.],\n",
      "       [255., 255., 255., ..., 255., 255., 255.],\n",
      "       [255., 255., 255., ..., 255., 255., 255.],\n",
      "       ...,\n",
      "       [255., 255., 255., ..., 255., 255., 255.],\n",
      "       [255., 255., 255., ..., 255., 255., 255.],\n",
      "       [255., 255., 255., ..., 255., 255., 255.]]), array([[255., 255., 255., ..., 255., 255., 255.],\n",
      "       [255., 255., 255., ..., 255., 255., 255.],\n",
      "       [255., 255., 255., ..., 255., 255., 255.],\n",
      "       ...,\n",
      "       [255., 255., 255., ..., 255., 255., 255.],\n",
      "       [255., 255., 255., ..., 255., 255., 255.],\n",
      "       [255., 255., 255., ..., 255., 255., 255.]]), array([[255., 255., 255., ..., 255., 255., 255.],\n",
      "       [255., 255., 255., ..., 255., 255., 255.],\n",
      "       [255., 255., 255., ..., 255., 255., 255.],\n",
      "       ...,\n",
      "       [255., 255., 255., ..., 255., 255., 255.],\n",
      "       [255., 255., 255., ..., 255., 255., 255.],\n",
      "       [255., 255., 255., ..., 255., 255., 255.]]), array([[255., 255., 255., ..., 255., 255., 255.],\n",
      "       [255., 255., 255., ..., 255., 255., 255.],\n",
      "       [255., 255., 255., ..., 255., 255., 255.],\n",
      "       ...,\n",
      "       [255., 255., 255., ..., 255., 255., 255.],\n",
      "       [255., 255., 255., ..., 255., 255., 255.],\n",
      "       [255., 255., 255., ..., 255., 255., 255.]]), array([[255., 255., 255., ..., 255., 255., 255.],\n",
      "       [255., 255., 255., ..., 255., 255., 255.],\n",
      "       [255., 255., 255., ..., 255., 255., 255.],\n",
      "       ...,\n",
      "       [255., 255., 255., ..., 255., 255., 255.],\n",
      "       [255., 255., 255., ..., 255., 255., 255.],\n",
      "       [255., 255., 255., ..., 255., 255., 255.]]), array([[255., 255., 255., ..., 255., 255., 255.],\n",
      "       [255., 255., 255., ..., 255., 255., 255.],\n",
      "       [255., 255., 255., ..., 255., 255., 255.],\n",
      "       ...,\n",
      "       [255., 255., 255., ..., 255., 255., 255.],\n",
      "       [255., 255., 255., ..., 255., 255., 255.],\n",
      "       [255., 255., 255., ..., 255., 255., 255.]]), array([[255., 255., 255., ..., 255., 255., 255.],\n",
      "       [255., 255., 255., ..., 255., 255., 255.],\n",
      "       [255., 255., 255., ..., 255., 255., 255.],\n",
      "       ...,\n",
      "       [255., 255., 255., ..., 255., 255., 255.],\n",
      "       [255., 255., 255., ..., 255., 255., 255.],\n",
      "       [255., 255., 255., ..., 255., 255., 255.]]), array([[255., 255., 255., ..., 255., 255., 255.],\n",
      "       [255., 255., 255., ..., 255., 255., 255.],\n",
      "       [255., 255., 255., ..., 255., 255., 255.],\n",
      "       ...,\n",
      "       [255., 255., 255., ..., 255., 255., 255.],\n",
      "       [255., 255., 255., ..., 255., 255., 255.],\n",
      "       [255., 255., 255., ..., 255., 255., 255.]]), array([[255., 255., 255., ..., 255., 255., 255.],\n",
      "       [255., 255., 255., ..., 255., 255., 255.],\n",
      "       [255., 255., 255., ..., 255., 255., 255.],\n",
      "       ...,\n",
      "       [255., 255., 255., ..., 255., 255., 255.],\n",
      "       [255., 255., 255., ..., 255., 255., 255.],\n",
      "       [255., 255., 255., ..., 255., 255., 255.]]), array([[255., 255., 255., ..., 255., 255., 255.],\n",
      "       [255., 255., 255., ..., 255., 255., 255.],\n",
      "       [255., 255., 255., ..., 255., 255., 255.],\n",
      "       ...,\n",
      "       [255., 255., 255., ..., 255., 255., 255.],\n",
      "       [255., 255., 255., ..., 255., 255., 255.],\n",
      "       [255., 255., 255., ..., 255., 255., 255.]]), array([[255., 255., 255., ..., 255., 255., 255.],\n",
      "       [255., 255., 255., ..., 255., 255., 255.],\n",
      "       [255., 255., 255., ..., 255., 255., 255.],\n",
      "       ...,\n",
      "       [255., 255., 255., ..., 255., 255., 255.],\n",
      "       [255., 255., 255., ..., 255., 255., 255.],\n",
      "       [255., 255., 255., ..., 255., 255., 255.]]), array([[255., 255., 255., ..., 255., 255., 255.],\n",
      "       [255., 255., 255., ..., 255., 255., 255.],\n",
      "       [255., 255., 255., ..., 255., 255., 255.],\n",
      "       ...,\n",
      "       [255., 255., 255., ..., 255., 255., 255.],\n",
      "       [255., 255., 255., ..., 255., 255., 255.],\n",
      "       [255., 255., 255., ..., 255., 255., 255.]]), array([[255., 255., 255., ..., 255., 255., 255.],\n",
      "       [255., 255., 255., ..., 255., 255., 255.],\n",
      "       [255., 255., 255., ..., 255., 255., 255.],\n",
      "       ...,\n",
      "       [255., 255., 255., ..., 255., 255., 255.],\n",
      "       [255., 255., 255., ..., 255., 255., 255.],\n",
      "       [255., 255., 255., ..., 255., 255., 255.]]), array([[255., 255., 255., ..., 255., 255., 255.],\n",
      "       [255., 255., 255., ..., 255., 255., 255.],\n",
      "       [255., 255., 255., ..., 255., 255., 255.],\n",
      "       ...,\n",
      "       [255., 255., 255., ..., 255., 255., 255.],\n",
      "       [255., 255., 255., ..., 255., 255., 255.],\n",
      "       [255., 255., 255., ..., 255., 255., 255.]]), array([[255., 255., 255., ..., 255., 255., 255.],\n",
      "       [255., 255., 255., ..., 255., 255., 255.],\n",
      "       [255., 255., 255., ..., 255., 255., 255.],\n",
      "       ...,\n",
      "       [255., 255., 255., ..., 255., 255., 255.],\n",
      "       [255., 255., 255., ..., 255., 255., 255.],\n",
      "       [255., 255., 255., ..., 255., 255., 255.]]), array([[255., 255., 255., ..., 255., 255., 255.],\n",
      "       [255., 255., 255., ..., 255., 255., 255.],\n",
      "       [255., 255., 255., ..., 255., 255., 255.],\n",
      "       ...,\n",
      "       [255., 255., 255., ..., 255., 255., 255.],\n",
      "       [255., 255., 255., ..., 255., 255., 255.],\n",
      "       [255., 255., 255., ..., 255., 255., 255.]]), array([[255., 255., 255., ..., 255., 255., 255.],\n",
      "       [255., 255., 255., ..., 255., 255., 255.],\n",
      "       [255., 255., 255., ..., 255., 255., 255.],\n",
      "       ...,\n",
      "       [255., 255., 255., ..., 255., 255., 255.],\n",
      "       [255., 255., 255., ..., 255., 255., 255.],\n",
      "       [255., 255., 255., ..., 255., 255., 255.]]), array([[255., 255., 255., ..., 255., 255., 255.],\n",
      "       [255., 255., 255., ..., 255., 255., 255.],\n",
      "       [255., 255., 255., ..., 255., 255., 255.],\n",
      "       ...,\n",
      "       [255., 255., 255., ..., 255., 255., 255.],\n",
      "       [255., 255., 255., ..., 255., 255., 255.],\n",
      "       [255., 255., 255., ..., 255., 255., 255.]]), array([[255., 255., 255., ..., 255., 255., 255.],\n",
      "       [255., 255., 255., ..., 255., 255., 255.],\n",
      "       [255., 255., 255., ..., 255., 255., 255.],\n",
      "       ...,\n",
      "       [255., 255., 255., ..., 255., 255., 255.],\n",
      "       [255., 255., 255., ..., 255., 255., 255.],\n",
      "       [255., 255., 255., ..., 255., 255., 255.]]), array([[255., 255., 255., ..., 255., 255., 255.],\n",
      "       [255., 255., 255., ..., 255., 255., 255.],\n",
      "       [255., 255., 255., ..., 255., 255., 255.],\n",
      "       ...,\n",
      "       [255., 255., 255., ..., 255., 255., 255.],\n",
      "       [255., 255., 255., ..., 255., 255., 255.],\n",
      "       [255., 255., 255., ..., 255., 255., 255.]]), array([[255., 255., 255., ..., 255., 255., 255.],\n",
      "       [255., 255., 255., ..., 255., 255., 255.],\n",
      "       [255., 255., 255., ..., 255., 255., 255.],\n",
      "       ...,\n",
      "       [255., 255., 255., ..., 255., 255., 255.],\n",
      "       [255., 255., 255., ..., 255., 255., 255.],\n",
      "       [255., 255., 255., ..., 255., 255., 255.]]), array([[255., 255., 255., ..., 255., 255., 255.],\n",
      "       [255., 255., 255., ..., 255., 255., 255.],\n",
      "       [255., 255., 255., ..., 255., 255., 255.],\n",
      "       ...,\n",
      "       [255., 255., 255., ..., 255., 255., 255.],\n",
      "       [255., 255., 255., ..., 255., 255., 255.],\n",
      "       [255., 255., 255., ..., 255., 255., 255.]]), array([[255., 255., 255., ..., 255., 255., 255.],\n",
      "       [255., 255., 255., ..., 255., 255., 255.],\n",
      "       [255., 255., 255., ..., 255., 255., 255.],\n",
      "       ...,\n",
      "       [255., 255., 255., ..., 255., 255., 255.],\n",
      "       [255., 255., 255., ..., 255., 255., 255.],\n",
      "       [255., 255., 255., ..., 255., 255., 255.]]), array([[255., 255., 255., ..., 255., 255., 255.],\n",
      "       [255., 255., 255., ..., 255., 255., 255.],\n",
      "       [255., 255., 255., ..., 255., 255., 255.],\n",
      "       ...,\n",
      "       [255., 255., 255., ..., 255., 255., 255.],\n",
      "       [255., 255., 255., ..., 255., 255., 255.],\n",
      "       [255., 255., 255., ..., 255., 255., 255.]]), array([[255., 255., 255., ..., 255., 255., 255.],\n",
      "       [255., 255., 255., ..., 255., 255., 255.],\n",
      "       [255., 255., 255., ..., 255., 255., 255.],\n",
      "       ...,\n",
      "       [255., 255., 255., ..., 255., 255., 255.],\n",
      "       [255., 255., 255., ..., 255., 255., 255.],\n",
      "       [255., 255., 255., ..., 255., 255., 255.]]), array([[255., 255., 255., ..., 255., 255., 255.],\n",
      "       [255., 255., 255., ..., 255., 255., 255.],\n",
      "       [255., 255., 255., ..., 255., 255., 255.],\n",
      "       ...,\n",
      "       [255., 255., 255., ..., 255., 255., 255.],\n",
      "       [255., 255., 255., ..., 255., 255., 255.],\n",
      "       [255., 255., 255., ..., 255., 255., 255.]]), array([[255., 255., 255., ..., 255., 255., 255.],\n",
      "       [255., 255., 255., ..., 255., 255., 255.],\n",
      "       [255., 255., 255., ..., 255., 255., 255.],\n",
      "       ...,\n",
      "       [255., 255., 255., ..., 255., 255., 255.],\n",
      "       [255., 255., 255., ..., 255., 255., 255.],\n",
      "       [255., 255., 255., ..., 255., 255., 255.]]), array([[255., 255., 255., ..., 255., 255., 255.],\n",
      "       [255., 255., 255., ..., 255., 255., 255.],\n",
      "       [255., 255., 255., ..., 255., 255., 255.],\n",
      "       ...,\n",
      "       [255., 255., 255., ..., 255., 255., 255.],\n",
      "       [255., 255., 255., ..., 255., 255., 255.],\n",
      "       [255., 255., 255., ..., 255., 255., 255.]]), array([[255., 255., 255., ..., 255., 255., 255.],\n",
      "       [255., 255., 255., ..., 255., 255., 255.],\n",
      "       [255., 255., 255., ..., 255., 255., 255.],\n",
      "       ...,\n",
      "       [255., 255., 255., ..., 255., 255., 255.],\n",
      "       [255., 255., 255., ..., 255., 255., 255.],\n",
      "       [255., 255., 255., ..., 255., 255., 255.]]), array([[255., 255., 255., ..., 255., 255., 255.],\n",
      "       [255., 255., 255., ..., 255., 255., 255.],\n",
      "       [255., 255., 255., ..., 255., 255., 255.],\n",
      "       ...,\n",
      "       [255., 255., 255., ..., 255., 255., 255.],\n",
      "       [255., 255., 255., ..., 255., 255., 255.],\n",
      "       [255., 255., 255., ..., 255., 255., 255.]]), array([[255., 255., 255., ..., 255., 255., 255.],\n",
      "       [255., 255., 255., ..., 255., 255., 255.],\n",
      "       [255., 255., 255., ..., 255., 255., 255.],\n",
      "       ...,\n",
      "       [255., 255., 255., ..., 255., 255., 255.],\n",
      "       [255., 255., 255., ..., 255., 255., 255.],\n",
      "       [255., 255., 255., ..., 255., 255., 255.]]), array([[255., 255., 255., ..., 255., 255., 255.],\n",
      "       [255., 255., 255., ..., 255., 255., 255.],\n",
      "       [255., 255., 255., ..., 255., 255., 255.],\n",
      "       ...,\n",
      "       [255., 255., 255., ..., 255., 255., 255.],\n",
      "       [255., 255., 255., ..., 255., 255., 255.],\n",
      "       [255., 255., 255., ..., 255., 255., 255.]]), array([[255., 255., 255., ..., 255., 255., 255.],\n",
      "       [255., 255., 255., ..., 255., 255., 255.],\n",
      "       [255., 255., 255., ..., 255., 255., 255.],\n",
      "       ...,\n",
      "       [255., 255., 255., ..., 255., 255., 255.],\n",
      "       [255., 255., 255., ..., 255., 255., 255.],\n",
      "       [255., 255., 255., ..., 255., 255., 255.]]), array([[255., 255., 255., ..., 255., 255., 255.],\n",
      "       [255., 255., 255., ..., 255., 255., 255.],\n",
      "       [255., 255., 255., ..., 255., 255., 255.],\n",
      "       ...,\n",
      "       [255., 255., 255., ..., 255., 255., 255.],\n",
      "       [255., 255., 255., ..., 255., 255., 255.],\n",
      "       [255., 255., 255., ..., 255., 255., 255.]]), array([[255., 255., 255., ..., 255., 255., 255.],\n",
      "       [255., 255., 255., ..., 255., 255., 255.],\n",
      "       [255., 255., 255., ..., 255., 255., 255.],\n",
      "       ...,\n",
      "       [255., 255., 255., ..., 255., 255., 255.],\n",
      "       [255., 255., 255., ..., 255., 255., 255.],\n",
      "       [255., 255., 255., ..., 255., 255., 255.]]), array([[255., 255., 255., ..., 255., 255., 255.],\n",
      "       [255., 255., 255., ..., 255., 255., 255.],\n",
      "       [255., 255., 255., ..., 255., 255., 255.],\n",
      "       ...,\n",
      "       [255., 255., 255., ..., 255., 255., 255.],\n",
      "       [255., 255., 255., ..., 255., 255., 255.],\n",
      "       [255., 255., 255., ..., 255., 255., 255.]]), array([[255., 255., 255., ..., 255., 255., 255.],\n",
      "       [255., 255., 255., ..., 255., 255., 255.],\n",
      "       [255., 255., 255., ..., 255., 255., 255.],\n",
      "       ...,\n",
      "       [255., 255., 255., ..., 255., 255., 255.],\n",
      "       [255., 255., 255., ..., 255., 255., 255.],\n",
      "       [255., 255., 255., ..., 255., 255., 255.]]), array([[255., 255., 255., ..., 255., 255., 255.],\n",
      "       [255., 255., 255., ..., 255., 255., 255.],\n",
      "       [255., 255., 255., ..., 255., 255., 255.],\n",
      "       ...,\n",
      "       [255., 255., 255., ..., 255., 255., 255.],\n",
      "       [255., 255., 255., ..., 255., 255., 255.],\n",
      "       [255., 255., 255., ..., 255., 255., 255.]]), array([[255., 255., 255., ..., 255., 255., 255.],\n",
      "       [255., 255., 255., ..., 255., 255., 255.],\n",
      "       [255., 255., 255., ..., 255., 255., 255.],\n",
      "       ...,\n",
      "       [255., 255., 255., ..., 255., 255., 255.],\n",
      "       [255., 255., 255., ..., 255., 255., 255.],\n",
      "       [255., 255., 255., ..., 255., 255., 255.]]), array([[255., 255., 255., ..., 255., 255., 255.],\n",
      "       [255., 255., 255., ..., 255., 255., 255.],\n",
      "       [255., 255., 255., ..., 255., 255., 255.],\n",
      "       ...,\n",
      "       [255., 255., 255., ..., 255., 255., 255.],\n",
      "       [255., 255., 255., ..., 255., 255., 255.],\n",
      "       [255., 255., 255., ..., 255., 255., 255.]]), array([[255., 255., 255., ..., 255., 255., 255.],\n",
      "       [255., 255., 255., ..., 255., 255., 255.],\n",
      "       [255., 255., 255., ..., 255., 255., 255.],\n",
      "       ...,\n",
      "       [255., 255., 255., ..., 255., 255., 255.],\n",
      "       [255., 255., 255., ..., 255., 255., 255.],\n",
      "       [255., 255., 255., ..., 255., 255., 255.]]), array([[255., 255., 255., ..., 255., 255., 255.],\n",
      "       [255., 255., 255., ..., 255., 255., 255.],\n",
      "       [255., 255., 255., ..., 255., 255., 255.],\n",
      "       ...,\n",
      "       [255., 255., 255., ..., 255., 255., 255.],\n",
      "       [255., 255., 255., ..., 255., 255., 255.],\n",
      "       [255., 255., 255., ..., 255., 255., 255.]]), array([[255., 255., 255., ..., 255., 255., 255.],\n",
      "       [255., 255., 255., ..., 255., 255., 255.],\n",
      "       [255., 255., 255., ..., 255., 255., 255.],\n",
      "       ...,\n",
      "       [255., 255., 255., ..., 255., 255., 255.],\n",
      "       [255., 255., 255., ..., 255., 255., 255.],\n",
      "       [255., 255., 255., ..., 255., 255., 255.]]), array([[255., 255., 255., ..., 255., 255., 255.],\n",
      "       [255., 255., 255., ..., 255., 255., 255.],\n",
      "       [255., 255., 255., ..., 255., 255., 255.],\n",
      "       ...,\n",
      "       [255., 255., 255., ..., 255., 255., 255.],\n",
      "       [255., 255., 255., ..., 255., 255., 255.],\n",
      "       [255., 255., 255., ..., 255., 255., 255.]]), array([[255., 255., 255., ..., 255., 255., 255.],\n",
      "       [255., 255., 255., ..., 255., 255., 255.],\n",
      "       [255., 255., 255., ..., 255., 255., 255.],\n",
      "       ...,\n",
      "       [255., 255., 255., ..., 255., 255., 255.],\n",
      "       [255., 255., 255., ..., 255., 255., 255.],\n",
      "       [255., 255., 255., ..., 255., 255., 255.]]), array([[255., 255., 255., ..., 255., 255., 255.],\n",
      "       [255., 255., 255., ..., 255., 255., 255.],\n",
      "       [255., 255., 255., ..., 255., 255., 255.],\n",
      "       ...,\n",
      "       [255., 255., 255., ..., 255., 255., 255.],\n",
      "       [255., 255., 255., ..., 255., 255., 255.],\n",
      "       [255., 255., 255., ..., 255., 255., 255.]]), array([[255., 255., 255., ..., 255., 255., 255.],\n",
      "       [255., 255., 255., ..., 255., 255., 255.],\n",
      "       [255., 255., 255., ..., 255., 255., 255.],\n",
      "       ...,\n",
      "       [255., 255., 255., ..., 255., 255., 255.],\n",
      "       [255., 255., 255., ..., 255., 255., 255.],\n",
      "       [255., 255., 255., ..., 255., 255., 255.]]), array([[255., 255., 255., ..., 255., 255., 255.],\n",
      "       [255., 255., 255., ..., 255., 255., 255.],\n",
      "       [255., 255., 255., ..., 255., 255., 255.],\n",
      "       ...,\n",
      "       [255., 255., 255., ..., 255., 255., 255.],\n",
      "       [255., 255., 255., ..., 255., 255., 255.],\n",
      "       [255., 255., 255., ..., 255., 255., 255.]]), array([[255., 255., 255., ..., 255., 255., 255.],\n",
      "       [255., 255., 255., ..., 255., 255., 255.],\n",
      "       [255., 255., 255., ..., 255., 255., 255.],\n",
      "       ...,\n",
      "       [255., 255., 255., ..., 255., 255., 255.],\n",
      "       [255., 255., 255., ..., 255., 255., 255.],\n",
      "       [255., 255., 255., ..., 255., 255., 255.]]), array([[255., 255., 255., ..., 255., 255., 255.],\n",
      "       [255., 255., 255., ..., 255., 255., 255.],\n",
      "       [255., 255., 255., ..., 255., 255., 255.],\n",
      "       ...,\n",
      "       [255., 255., 255., ..., 255., 255., 255.],\n",
      "       [255., 255., 255., ..., 255., 255., 255.],\n",
      "       [255., 255., 255., ..., 255., 255., 255.]]), array([[255., 255., 255., ..., 255., 255., 255.],\n",
      "       [255., 255., 255., ..., 255., 255., 255.],\n",
      "       [255., 255., 255., ..., 255., 255., 255.],\n",
      "       ...,\n",
      "       [255., 255., 255., ..., 255., 255., 255.],\n",
      "       [255., 255., 255., ..., 255., 255., 255.],\n",
      "       [255., 255., 255., ..., 255., 255., 255.]])]\n"
     ]
    }
   ],
   "source": [
    "N_vals_1 = np.arange(2, 633, 10) \n",
    "#N_vals_2 = np.arange(30, 631, 100)\n",
    "#N_vals = np.concatenate((N_vals_1, N_vals_2))\n",
    "#N_vals_3 = np.arange(630, 1230, 100)\n",
    "napoleon_big_array = []\n",
    "for n in N_vals_1:\n",
    "    name = 'napoleon' + str(n)\n",
    "    list_n = PreformFourier(napoleon_x, napoleon_y, napoleon_t,n,Save=True, save_plot_as=name, IImport=True,plot_import=False, debug=False)\n",
    "    napoleon_big_array.append(list_n)\n",
    "    print(n, 'is done')\n",
    "print(napoleon_big_array)"
   ]
  },
  {
   "cell_type": "code",
   "execution_count": 358,
   "metadata": {},
   "outputs": [
    {
     "name": "stdout",
     "output_type": "stream",
     "text": [
      "730 is done\n",
      "740 is done\n",
      "750 is done\n",
      "760 is done\n",
      "770 is done\n",
      "780 is done\n",
      "790 is done\n",
      "800 is done\n",
      "810 is done\n",
      "820 is done\n",
      "830 is done\n",
      "840 is done\n",
      "850 is done\n",
      "860 is done\n",
      "870 is done\n",
      "880 is done\n",
      "890 is done\n",
      "900 is done\n",
      "910 is done\n",
      "920 is done\n",
      "930 is done\n",
      "940 is done\n",
      "950 is done\n",
      "960 is done\n",
      "970 is done\n",
      "980 is done\n",
      "990 is done\n",
      "1000 is done\n",
      "1010 is done\n",
      "1020 is done\n",
      "1030 is done\n",
      "1040 is done\n",
      "1050 is done\n",
      "1060 is done\n",
      "1070 is done\n",
      "1080 is done\n",
      "1090 is done\n",
      "1100 is done\n",
      "1110 is done\n",
      "1120 is done\n",
      "1130 is done\n",
      "1140 is done\n",
      "1150 is done\n",
      "1160 is done\n",
      "1170 is done\n",
      "1180 is done\n",
      "1190 is done\n",
      "1200 is done\n",
      "1210 is done\n",
      "1220 is done\n",
      "1230 is done\n"
     ]
    }
   ],
   "source": [
    "N_vals_3 = np.arange(730, 1231, 10)\n",
    "napoleon_big_array_3 = []\n",
    "for n in N_vals_3:\n",
    "    name = 'napoleon' + str(n)\n",
    "    list_n = PreformFourier(napoleon_x, napoleon_y, napoleon_t,n,Save=True, save_plot_as=name, IImport=True,plot_import=False, debug=False)\n",
    "    napoleon_big_array_3.append(list_n)\n",
    "    print(n, 'is done')\n"
   ]
  },
  {
   "cell_type": "code",
   "execution_count": 362,
   "metadata": {},
   "outputs": [
    {
     "name": "stdout",
     "output_type": "stream",
     "text": [
      "640 is done\n",
      "650 is done\n",
      "660 is done\n",
      "670 is done\n",
      "680 is done\n",
      "690 is done\n",
      "700 is done\n",
      "710 is done\n",
      "720 is done\n"
     ]
    }
   ],
   "source": [
    "N_vals_4 = np.arange(640, 730, 10)\n",
    "napoleon_big_array_4 = []\n",
    "for n in N_vals_4:\n",
    "    name = 'napoleon' + str(n)\n",
    "    list_n = PreformFourier(napoleon_x, napoleon_y, napoleon_t,n,Save=True, save_plot_as=name, IImport=True,plot_import=False, debug=False)\n",
    "    napoleon_big_array_4.append(list_n)\n",
    "    print(n, 'is done')"
   ]
  },
  {
   "cell_type": "code",
   "execution_count": 367,
   "metadata": {},
   "outputs": [
    {
     "name": "stdout",
     "output_type": "stream",
     "text": [
      "124\n"
     ]
    }
   ],
   "source": [
    "napoleon_to_1230 = np.concatenate((napoleon_big_array, napoleon_big_array_3))\n",
    "napoleon_to_1230 = np.concatenate((napoleon_to_1230, napoleon_big_array_4))\n",
    "print(len(napoleon_to_1230))"
   ]
  },
  {
   "cell_type": "code",
   "execution_count": 330,
   "metadata": {},
   "outputs": [
    {
     "data": {
      "text/plain": [
       "<matplotlib.image.AxesImage at 0x1e87eccaa58>"
      ]
     },
     "execution_count": 330,
     "metadata": {},
     "output_type": "execute_result"
    },
    {
     "data": {
      "image/png": "[encoded data removed]",
      "text/plain": [
       "<Figure size 432x288 with 1 Axes>"
      ]
     },
     "metadata": {
      "needs_background": "light"
     },
     "output_type": "display_data"
    }
   ],
   "source": [
    "plt.imshow(napoleon_big_array[0])"
   ]
  },
  {
   "cell_type": "code",
   "execution_count": 333,
   "metadata": {},
   "outputs": [
    {
     "name": "stdout",
     "output_type": "stream",
     "text": [
      "no import here\n"
     ]
    }
   ],
   "source": [
    "print(napoleon_param)"
   ]
  },
  {
   "cell_type": "code",
   "execution_count": 364,
   "metadata": {},
   "outputs": [],
   "source": [
    "precent_sim = np.zeros([len(napoleon_to_1230)])\n",
    "for i in range(len(napoleon_to_1230)):\n",
    "    pre = ImageDetector(napoleon_param, napoleon_to_1230[i])\n",
    "    precent_sim[i] = pre\n",
    "    #print(i, 'is done')\n",
    "\n"
   ]
  },
  {
   "cell_type": "code",
   "execution_count": 371,
   "metadata": {},
   "outputs": [
    {
     "name": "stdout",
     "output_type": "stream",
     "text": [
      "0.9593184364419821\n"
     ]
    },
    {
     "data": {
      "image/png": "[encoded data removed]",
      "text/plain": [
       "<Figure size 432x288 with 1 Axes>"
      ]
     },
     "metadata": {
      "needs_background": "light"
     },
     "output_type": "display_data"
    }
   ],
   "source": [
    "N_to_1230 = np.concatenate((N_vals_1, N_vals_3))\n",
    "N_to_1230 = np.concatenate((N_to_1230, N_vals_4))\n",
    "plt.plot(N_to_1230, precent_sim, 'k.')\n",
    "#plt.plot(N_to_1230, precent_sim, 'r.')\n",
    "\n",
    "print(precent_diff[-4])"
   ]
  },
  {
   "cell_type": "code",
   "execution_count": 354,
   "metadata": {},
   "outputs": [
    {
     "data": {
      "text/plain": [
       "<matplotlib.image.AxesImage at 0x1e88a524f28>"
      ]
     },
     "execution_count": 354,
     "metadata": {},
     "output_type": "execute_result"
    },
    {
     "data": {
      "image/png": "[encoded data removed]",
      "text/plain": [
       "<Figure size 432x288 with 1 Axes>"
      ]
     },
     "metadata": {
      "needs_background": "light"
     },
     "output_type": "display_data"
    }
   ],
   "source": [
    "plt.imshow(napoleon_to_1230[-4])"
   ]
  },
  {
   "cell_type": "code",
   "execution_count": 356,
   "metadata": {},
   "outputs": [
    {
     "data": {
      "text/plain": [
       "<matplotlib.image.AxesImage at 0x1e88a58ca58>"
      ]
     },
     "execution_count": 356,
     "metadata": {},
     "output_type": "execute_result"
    },
    {
     "data": {
      "image/png": "[encoded data removed]",
      "text/plain": [
       "<Figure size 432x288 with 1 Axes>"
      ]
     },
     "metadata": {
      "needs_background": "light"
     },
     "output_type": "display_data"
    }
   ],
   "source": [
    "plt.imshow(napoleon_param)"
   ]
  },
  {
   "cell_type": "code",
   "execution_count": 357,
   "metadata": {},
   "outputs": [
    {
     "data": {
      "text/plain": [
       "0.9593184364419821"
      ]
     },
     "execution_count": 357,
     "metadata": {},
     "output_type": "execute_result"
    }
   ],
   "source": [
    "ImageDetector(napoleon_param, napoleon_to_1230[-4])"
   ]
  },
  {
   "cell_type": "code",
   "execution_count": 428,
   "metadata": {},
   "outputs": [
    {
     "name": "stdout",
     "output_type": "stream",
     "text": [
      "import done\n",
      "not_grey done\n",
      "collapseRBG done\n",
      "black_coords found\n",
      "path found\n",
      "lineapprox done\n",
      "saveplot done\n",
      "import done\n",
      "imported collapse RBGA done\n",
      "NotGrey01 done\n"
     ]
    },
    {
     "data": {
      "image/png": "[encoded data removed]",
      "text/plain": [
       "<Figure size 432x288 with 1 Axes>"
      ]
     },
     "metadata": {
      "needs_background": "light"
     },
     "output_type": "display_data"
    }
   ],
   "source": [
    "girl_x, girl_y, girl_t, girl_param = SetUpPicture('girl.jpg', start=-1, thresh_ng=20, PlotParam=True, evals_line_approx=1000, Save=True, save_plot_as='girl_param', IImport=True, plot_import=True, debug= True)"
   ]
  },
  {
   "cell_type": "code",
   "execution_count": 393,
   "metadata": {},
   "outputs": [
    {
     "data": {
      "text/plain": [
       "<matplotlib.image.AxesImage at 0x1e88db46cf8>"
      ]
     },
     "execution_count": 393,
     "metadata": {},
     "output_type": "execute_result"
    },
    {
     "data": {
      "image/png": "[encoded data removed]",
      "text/plain": [
       "<Figure size 432x288 with 1 Axes>"
      ]
     },
     "metadata": {
      "needs_background": "light"
     },
     "output_type": "display_data"
    }
   ],
   "source": [
    "girl = Import('girl.jpg')\n",
    "plt.imshow(girl)"
   ]
  },
  {
   "cell_type": "code",
   "execution_count": 394,
   "metadata": {},
   "outputs": [
    {
     "data": {
      "image/png": "[encoded data removed]",
      "text/plain": [
       "<Figure size 432x288 with 1 Axes>"
      ]
     },
     "metadata": {
      "needs_background": "light"
     },
     "output_type": "display_data"
    }
   ],
   "source": [
    "girl_ng = NotGray(20, girl)\n",
    "girl_array = np.array(girl_ng)\n",
    "girl_bw = CollapseRBG(girl_array)\n",
    "plt.imshow(girl_bw)\n",
    "black = black_coords(girl_bw)\n"
   ]
  },
  {
   "cell_type": "code",
   "execution_count": 395,
   "metadata": {},
   "outputs": [],
   "source": [
    "girl_path = BestPath(black[0], girl_bw)"
   ]
  },
  {
   "cell_type": "code",
   "execution_count": 410,
   "metadata": {},
   "outputs": [
    {
     "name": "stdout",
     "output_type": "stream",
     "text": [
      "13794\n"
     ]
    }
   ],
   "source": [
    "print(len(black))"
   ]
  },
  {
   "cell_type": "code",
   "execution_count": 418,
   "metadata": {},
   "outputs": [
    {
     "ename": "KeyError",
     "evalue": "'[6968 3174]'",
     "output_type": "error",
     "traceback": [
      "\u001b[1;31m---------------------------------------------------------------------------\u001b[0m",
      "\u001b[1;31mKeyError\u001b[0m                                  Traceback (most recent call last)",
      "\u001b[1;32m<ipython-input-418-53ff12844fc8>\u001b[0m in \u001b[0;36m<module>\u001b[1;34m\u001b[0m\n\u001b[0;32m      1\u001b[0m \u001b[0mstart\u001b[0m \u001b[1;33m=\u001b[0m \u001b[0mnp\u001b[0m\u001b[1;33m.\u001b[0m\u001b[0marray\u001b[0m\u001b[1;33m(\u001b[0m\u001b[1;33m(\u001b[0m\u001b[1;36m6968\u001b[0m\u001b[1;33m,\u001b[0m \u001b[1;36m3174\u001b[0m\u001b[1;33m)\u001b[0m\u001b[1;33m)\u001b[0m\u001b[1;33m\u001b[0m\u001b[1;33m\u001b[0m\u001b[0m\n\u001b[1;32m----> 2\u001b[1;33m \u001b[0mPairCoord_Index\u001b[0m\u001b[1;33m(\u001b[0m\u001b[0mstart\u001b[0m\u001b[1;33m,\u001b[0m \u001b[0mblack\u001b[0m\u001b[1;33m)\u001b[0m\u001b[1;33m\u001b[0m\u001b[1;33m\u001b[0m\u001b[0m\n\u001b[0m",
      "\u001b[1;32m<ipython-input-267-b3dee40b6c07>\u001b[0m in \u001b[0;36mPairCoord_Index\u001b[1;34m(start, coordslist)\u001b[0m\n\u001b[0;32m     63\u001b[0m         \u001b[1;31m#print(coord_str)\u001b[0m\u001b[1;33m\u001b[0m\u001b[1;33m\u001b[0m\u001b[1;33m\u001b[0m\u001b[0m\n\u001b[0;32m     64\u001b[0m         \u001b[0mpair_dict\u001b[0m\u001b[1;33m[\u001b[0m\u001b[0mcoord_str\u001b[0m\u001b[1;33m]\u001b[0m \u001b[1;33m=\u001b[0m \u001b[0mi\u001b[0m\u001b[1;33m[\u001b[0m\u001b[1;36m0\u001b[0m\u001b[1;33m]\u001b[0m\u001b[1;33m\u001b[0m\u001b[1;33m\u001b[0m\u001b[0m\n\u001b[1;32m---> 65\u001b[1;33m     \u001b[1;32mreturn\u001b[0m \u001b[0mpair_dict\u001b[0m\u001b[1;33m[\u001b[0m\u001b[0mstart_str\u001b[0m\u001b[1;33m]\u001b[0m\u001b[1;33m\u001b[0m\u001b[1;33m\u001b[0m\u001b[0m\n\u001b[0m\u001b[0;32m     66\u001b[0m \u001b[1;33m\u001b[0m\u001b[0m\n\u001b[0;32m     67\u001b[0m \u001b[1;33m\u001b[0m\u001b[0m\n",
      "\u001b[1;31mKeyError\u001b[0m: '[6968 3174]'"
     ]
    }
   ],
   "source": [
    "start = np.array((6968, 3174))\n",
    "PairCoord_Index(start, black)"
   ]
  },
  {
   "cell_type": "code",
   "execution_count": 415,
   "metadata": {},
   "outputs": [
    {
     "name": "stdout",
     "output_type": "stream",
     "text": [
      "6965 1511\n",
      "6965 1521\n",
      "6965 1532\n",
      "6965 1542\n",
      "6965 1554\n",
      "6965 3134\n",
      "6965 3174\n",
      "6965 3217\n",
      "6965 3261\n",
      "6965 3306\n",
      "6965 3347\n",
      "6965 3377\n",
      "6965 3404\n",
      "6965 3432\n",
      "6965 3460\n",
      "6965 3488\n",
      "6965 3517\n",
      "6965 3549\n",
      "6965 4255\n",
      "6965 4286\n",
      "6965 4317\n",
      "6965 4349\n",
      "6965 5627\n",
      "6965 5659\n",
      "6965 6255\n",
      "6965 6311\n",
      "6965 6380\n",
      "6965 6903\n",
      "6965 6909\n",
      "6965 6915\n",
      "6965 6921\n",
      "6965 6926\n",
      "6965 6932\n",
      "6965 6938\n",
      "6965 6943\n",
      "6965 6949\n",
      "6965 6955\n",
      "6965 6961\n",
      "6965 6967\n",
      "6965 7150\n",
      "6965 7156\n",
      "6965 7161\n",
      "6965 7173\n",
      "6965 7199\n",
      "6965 7232\n",
      "6965 7260\n",
      "6965 7283\n",
      "6965 7305\n",
      "6965 7327\n",
      "6965 7348\n",
      "6965 7399\n",
      "6965 7701\n",
      "6965 7734\n",
      "6965 7835\n",
      "6965 7881\n",
      "6965 7931\n",
      "6965 8466\n",
      "6965 8488\n",
      "6965 8514\n",
      "6965 10729\n",
      "6965 10749\n",
      "6965 10771\n",
      "6965 10792\n",
      "6965 10814\n",
      "6965 13647\n",
      "6965 13674\n",
      "6966 1511\n",
      "6966 1521\n",
      "6966 1532\n",
      "6966 1542\n",
      "6966 1554\n",
      "6966 3134\n",
      "6966 3174\n",
      "6966 3217\n",
      "6966 3261\n",
      "6966 3306\n",
      "6966 3347\n",
      "6966 3377\n",
      "6966 3404\n",
      "6966 3432\n",
      "6966 3460\n",
      "6966 3488\n",
      "6966 3517\n",
      "6966 3549\n",
      "6966 4255\n",
      "6966 4286\n",
      "6966 4317\n",
      "6966 4349\n",
      "6966 5627\n",
      "6966 5659\n",
      "6966 6255\n",
      "6966 6311\n",
      "6966 6380\n",
      "6966 6903\n",
      "6966 6909\n",
      "6966 6915\n",
      "6966 6921\n",
      "6966 6926\n",
      "6966 6932\n",
      "6966 6938\n",
      "6966 6943\n",
      "6966 6949\n",
      "6966 6955\n",
      "6966 6961\n",
      "6966 6967\n",
      "6966 7150\n",
      "6966 7156\n",
      "6966 7161\n",
      "6966 7173\n",
      "6966 7199\n",
      "6966 7232\n",
      "6966 7260\n",
      "6966 7283\n",
      "6966 7305\n",
      "6966 7327\n",
      "6966 7348\n",
      "6966 7399\n",
      "6966 7701\n",
      "6966 7734\n",
      "6966 7835\n",
      "6966 7881\n",
      "6966 7931\n",
      "6966 8466\n",
      "6966 8488\n",
      "6966 8514\n",
      "6966 10729\n",
      "6966 10749\n",
      "6966 10771\n",
      "6966 10792\n",
      "6966 10814\n",
      "6966 13647\n",
      "6966 13674\n",
      "6967 1511\n",
      "6967 1521\n",
      "6967 1532\n",
      "6967 1542\n",
      "6967 1554\n",
      "6967 3134\n",
      "6967 3174\n",
      "6967 3217\n",
      "6967 3261\n",
      "6967 3306\n",
      "6967 3347\n",
      "6967 3377\n",
      "6967 3404\n",
      "6967 3432\n",
      "6967 3460\n",
      "6967 3488\n",
      "6967 3517\n",
      "6967 3549\n",
      "6967 4255\n",
      "6967 4286\n",
      "6967 4317\n",
      "6967 4349\n",
      "6967 5627\n",
      "6967 5659\n",
      "6967 6255\n",
      "6967 6311\n",
      "6967 6380\n",
      "6967 6903\n",
      "6967 6909\n",
      "6967 6915\n",
      "6967 6921\n",
      "6967 6926\n",
      "6967 6932\n",
      "6967 6938\n",
      "6967 6943\n",
      "6967 6949\n",
      "6967 6955\n",
      "6967 6961\n",
      "6967 6967\n",
      "6967 7150\n",
      "6967 7156\n",
      "6967 7161\n",
      "6967 7173\n",
      "6967 7199\n",
      "6967 7232\n",
      "6967 7260\n",
      "6967 7283\n",
      "6967 7305\n",
      "6967 7327\n",
      "6967 7348\n",
      "6967 7399\n",
      "6967 7701\n",
      "6967 7734\n",
      "6967 7835\n",
      "6967 7881\n",
      "6967 7931\n",
      "6967 8466\n",
      "6967 8488\n",
      "6967 8514\n",
      "6967 10729\n",
      "6967 10749\n",
      "6967 10771\n",
      "6967 10792\n",
      "6967 10814\n",
      "6967 13647\n",
      "6967 13674\n",
      "6968 1511\n",
      "6968 1521\n",
      "6968 1532\n",
      "6968 1542\n",
      "6968 1554\n",
      "6968 3134\n",
      "6968 3174\n",
      "6968 3217\n",
      "6968 3261\n",
      "6968 3306\n",
      "6968 3347\n",
      "6968 3377\n",
      "6968 3404\n",
      "6968 3432\n",
      "6968 3460\n",
      "6968 3488\n",
      "6968 3517\n",
      "6968 3549\n",
      "6968 4255\n",
      "6968 4286\n",
      "6968 4317\n",
      "6968 4349\n",
      "6968 5627\n",
      "6968 5659\n",
      "6968 6255\n",
      "6968 6311\n",
      "6968 6380\n",
      "6968 6903\n",
      "6968 6909\n",
      "6968 6915\n",
      "6968 6921\n",
      "6968 6926\n",
      "6968 6932\n",
      "6968 6938\n",
      "6968 6943\n",
      "6968 6949\n",
      "6968 6955\n",
      "6968 6961\n",
      "6968 6967\n",
      "6968 7150\n",
      "6968 7156\n",
      "6968 7161\n",
      "6968 7173\n",
      "6968 7199\n",
      "6968 7232\n",
      "6968 7260\n",
      "6968 7283\n",
      "6968 7305\n",
      "6968 7327\n",
      "6968 7348\n",
      "6968 7399\n",
      "6968 7701\n",
      "6968 7734\n",
      "6968 7835\n",
      "6968 7881\n",
      "6968 7931\n",
      "6968 8466\n",
      "6968 8488\n",
      "6968 8514\n",
      "6968 10729\n",
      "6968 10749\n",
      "6968 10771\n",
      "6968 10792\n",
      "6968 10814\n",
      "6968 13647\n",
      "6968 13674\n",
      "6969 1511\n",
      "6969 1521\n",
      "6969 1532\n",
      "6969 1542\n",
      "6969 1554\n",
      "6969 3134\n",
      "6969 3174\n",
      "6969 3217\n",
      "6969 3261\n",
      "6969 3306\n",
      "6969 3347\n",
      "6969 3377\n",
      "6969 3404\n",
      "6969 3432\n",
      "6969 3460\n",
      "6969 3488\n",
      "6969 3517\n",
      "6969 3549\n",
      "6969 4255\n",
      "6969 4286\n",
      "6969 4317\n",
      "6969 4349\n",
      "6969 5627\n",
      "6969 5659\n",
      "6969 6255\n",
      "6969 6311\n",
      "6969 6380\n",
      "6969 6903\n",
      "6969 6909\n",
      "6969 6915\n",
      "6969 6921\n",
      "6969 6926\n",
      "6969 6932\n",
      "6969 6938\n",
      "6969 6943\n",
      "6969 6949\n",
      "6969 6955\n",
      "6969 6961\n",
      "6969 6967\n",
      "6969 7150\n",
      "6969 7156\n",
      "6969 7161\n",
      "6969 7173\n",
      "6969 7199\n",
      "6969 7232\n",
      "6969 7260\n",
      "6969 7283\n",
      "6969 7305\n",
      "6969 7327\n",
      "6969 7348\n",
      "6969 7399\n",
      "6969 7701\n",
      "6969 7734\n",
      "6969 7835\n",
      "6969 7881\n",
      "6969 7931\n",
      "6969 8466\n",
      "6969 8488\n",
      "6969 8514\n",
      "6969 10729\n",
      "6969 10749\n",
      "6969 10771\n",
      "6969 10792\n",
      "6969 10814\n",
      "6969 13647\n",
      "6969 13674\n"
     ]
    }
   ],
   "source": [
    "for i in range(len(black)):\n",
    "    if 399< black[i][0] <401:\n",
    "        for j in range(len(black)):\n",
    "            if 99< black[j][1]<101:\n",
    "                print(i,j)"
   ]
  },
  {
   "cell_type": "code",
   "execution_count": null,
   "metadata": {},
   "outputs": [],
   "source": []
  }
 ],
 "metadata": {
  "kernelspec": {
   "display_name": "Python 3",
   "language": "python",
   "name": "python3"
  },
  "language_info": {
   "codemirror_mode": {
    "name": "ipython",
    "version": 3
   },
   "file_extension": ".py",
   "mimetype": "text/x-python",
   "name": "python",
   "nbconvert_exporter": "python",
   "pygments_lexer": "ipython3",
   "version": "3.7.3"
  }
 },
 "nbformat": 4,
 "nbformat_minor": 2
}
